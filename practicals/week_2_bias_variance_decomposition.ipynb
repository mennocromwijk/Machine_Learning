{
 "cells": [
  {
   "cell_type": "markdown",
   "metadata": {},
   "source": [
    "$\\bf{Answer:}$ <br>\n",
    "$ MSE = E[(\\theta{_m} − \\theta)^2]$ (5.53) <br>\n",
    "$= Bias(\\theta_m)^2+ Var(\\theta_m)$ (5.54) <br> \n",
    "given the expressions: $Bias(\\theta_m)= \\mathbb{E}[\\theta{_m}] - \\theta$ and $Var(\\theta_m) = \\mathbb{E}[(\\theta{_m} - \\mathbb{E}[{\\theta{_m}}])^2]$ <br>\n",
    "\n",
    "$ MSE = E[(\\theta{_m} − \\theta)^2]$ <br>\n",
    "$ = \\mathbb{E}[(\\theta_m -\\mathbb{E}[\\theta_m] + \\mathbb{E}[\\theta_m] - \\theta )^2] $ <br>\n",
    "$=\\mathbb{E}[ (\\theta_m-\\mathbb{E}[\\theta_m])^2 + (\\mathbb{E}[\\theta_m]-\\theta)^2 + 2(\\theta_m-\\mathbb{E}[\\theta_m])(\\mathbb{E}[\\theta_m]-\\theta)]$\n",
    "$=\\mathbb{E}[ (\\theta_m-\\mathbb{E}[\\theta_m])^2] + \\mathbb{E}[(\\mathbb{E}[\\theta_m]-\\theta)^2] + \\mathbb{E}[2(\\theta_m-\\mathbb{E}[\\theta_m])(\\mathbb{E}[\\theta_m]-\\theta)]$\n",
    "\n",
    "The first part of the equation can be substituted by the expression of the variance. Secondly, constants can be taken out of the $\\mathbb{E}$-operator. Given that $\\mathbb{E}[\\theta_m]-\\theta$ which is the bias of the estimator $\\theta_m$ is constant, the equation simplifies in:\n",
    "\n",
    "$=Var(\\theta_m) + \\mathbb{E}[(\\mathbb{E}[\\theta_m]-\\theta)^2] + 2(\\mathbb{E}[\\theta_m]-\\theta)\\mathbb{E}[(\\theta_m-\\mathbb{E}[\\theta_m])]$\n",
    "\n",
    "Since the outcome of an estimator is a constant, and the outcome of an estimator with constant input is the constant itself, the following term results in zero. $\\mathbb{E}[(\\theta_m-\\mathbb{E}[\\theta_m])=\\mathbb{E}[\\theta_m]-\\mathbb{E}[\\theta_m]=0$\n",
    "\n",
    "The MSE equation results in:\n",
    "$MSE=Var(\\theta_m)+ (\\mathbb{E}[\\theta_m]-\\theta)^2 $ <br>\n",
    "$=Var(\\theta_m)+ Bias(\\theta_m)^2$\n"
   ]
  }
 ],
 "metadata": {
  "kernelspec": {
   "display_name": "Python 3",
   "language": "python",
   "name": "python3"
  },
  "language_info": {
   "codemirror_mode": {
    "name": "ipython",
    "version": 3
   },
   "file_extension": ".py",
   "mimetype": "text/x-python",
   "name": "python",
   "nbconvert_exporter": "python",
   "pygments_lexer": "ipython3",
   "version": "3.6.5"
  }
 },
 "nbformat": 4,
 "nbformat_minor": 2
}
