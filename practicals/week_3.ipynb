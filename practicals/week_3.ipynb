{
 "cells": [
  {
   "cell_type": "markdown",
   "metadata": {},
   "source": [
    "# Preliminaries\n",
    "\n",
    "The `pandas` library allows the user several data structures for different data manipulation tasks:\n",
    "1. Data storage through its `Series` and `DataFrame` data structures.\n",
    "2. Data filtering using multiple methods from the package.\n",
    "3. Reading data from many different file formats such as `csv`, `txt`, `xlsx`, ...\n",
    "\n",
    "Below we provide a brief overview of the `pandas` functionalities needed for these exercises. The complete documentation can be found on the [`pandas` website](https://pandas.pydata.org/).\n",
    "\n",
    "## Pandas data structures\n",
    "\n",
    "### Series\n",
    "The Pandas Series data structure is similar to a one-dimensional array. It can store any type of data. The values are mutable but the size not.\n",
    "\n",
    "To create `Series`, we call the `pd.Series()` method and pass an array. A `Series` may also be created from a numpy array."
   ]
  },
  {
   "cell_type": "code",
   "execution_count": 1,
   "metadata": {},
   "outputs": [
    {
     "name": "stdout",
     "output_type": "stream",
     "text": [
      "0       1\n",
      "1      10\n",
      "2     100\n",
      "3    1000\n",
      "dtype: int64\n",
      "\n",
      "\n",
      "0          PSV\n",
      "1         Ajax\n",
      "2    Feyenoord\n",
      "3       Twente\n",
      "dtype: object\n"
     ]
    }
   ],
   "source": [
    "import pandas as pd\n",
    "import numpy as np\n",
    "\n",
    "first_series = pd.Series([1,10,100,1000])\n",
    "\n",
    "print(first_series)\n",
    "\n",
    "teams = np.array(['PSV','Ajax','Feyenoord','Twente'])\n",
    "second_series = pd.Series(teams)\n",
    "\n",
    "print('\\n')\n",
    "print(second_series)"
   ]
  },
  {
   "cell_type": "markdown",
   "metadata": {},
   "source": [
    "### DataFrame\n",
    "One can think of a `DataFrame` as a table with rows and columns (2D structure). The columns can be of a different type (as opposed to `numpy` arrays) and the size of the `DataFrame` is mutable.\n",
    "\n",
    "To create `DataFrame`, we call the `pd.DataFrame()` method and we can create it from scratch or we can convert a numpy array or a list into a `DataFrame`."
   ]
  },
  {
   "cell_type": "code",
   "execution_count": 2,
   "metadata": {},
   "outputs": [
    {
     "name": "stdout",
     "output_type": "stream",
     "text": [
      "From scratch: \n",
      "    Position       Team  GF  GA  Points\n",
      "0         1        PSV  80  30      79\n",
      "1         2       Ajax  75  25      78\n",
      "2         3  Feyenoord  75  40      70\n",
      "3         4     Twente  70  60      66 \n",
      "\n",
      "From list: \n",
      "   Position       Team  GF  GA Points\n",
      "0        1        PSV  80  30     79\n",
      "1        2       Ajax  75  25     78\n",
      "2        3  Feyenoord  75  40     70\n",
      "3        4     Twente  70  60     66 \n",
      "\n",
      "From numpy array: \n",
      "   Position       Team  GF  GA Points\n",
      "0        1        PSV  80  30     79\n",
      "1        2       Ajax  75  25     78\n",
      "2        3  Feyenoord  75  40     70\n",
      "3        4     Twente  70  60     66 \n",
      "\n"
     ]
    }
   ],
   "source": [
    "# DataFrame from scratch\n",
    "first_dataframe = pd.DataFrame({\n",
    "    \"Position\": [1, 2, 3, 4],\n",
    "    \"Team\": ['PSV','Ajax','Feyenoord','Twente'],\n",
    "    \"GF\": [80, 75, 75, 70],\n",
    "    \"GA\": [30, 25, 40, 60],\n",
    "    \"Points\": [79, 78, 70, 66]\n",
    "})\n",
    "\n",
    "print(\"From scratch: \\n {} \\n\".format(first_dataframe))\n",
    "\n",
    "# DataFrme from a list\n",
    "data = [[1, 2, 3, 4], ['PSV','Ajax','Feyenoord','Twente'], \n",
    "        [80, 75, 75, 70], [30, 25, 40, 60], [79, 78, 70, 66]]\n",
    "columns = [\"Position\", \"Team\", \"GF\", \"GA\", \"Points\"]\n",
    "\n",
    "second_dataframe = pd.DataFrame(data, index=columns)\n",
    "\n",
    "print(\"From list: \\n {} \\n\".format(second_dataframe.T)) # the '.T' operator is explained later on\n",
    "\n",
    "# DataFrame from numpy array\n",
    "data = np.array([[1, 2, 3, 4], ['PSV','Ajax','Feyenoord','Twente'], \n",
    "                 [80, 75, 75, 70], [30, 25, 40, 60], [79, 78, 70, 66]])\n",
    "columns = [\"Position\", \"Team\", \"GF\", \"GA\", \"Points\"]\n",
    "\n",
    "third_dataframe = pd.DataFrame(data.T, columns=columns)\n",
    "\n",
    "print(\"From numpy array: \\n {} \\n\".format(third_dataframe))"
   ]
  },
  {
   "cell_type": "markdown",
   "metadata": {},
   "source": [
    "### DataFrame attributes\n",
    "This section gives a quick overview of some of the `pandas.DataFrame` attributes such as `T`, `index`, `columns`, `iloc`, `loc`, `shape` and `values`."
   ]
  },
  {
   "cell_type": "code",
   "execution_count": 3,
   "metadata": {},
   "outputs": [
    {
     "name": "stdout",
     "output_type": "stream",
     "text": [
      "            0     1          2       3\n",
      "Position    1     2          3       4\n",
      "Team      PSV  Ajax  Feyenoord  Twente\n",
      "GF         80    75         75      70\n",
      "GA         30    25         40      60\n",
      "Points     79    78         70      66\n"
     ]
    }
   ],
   "source": [
    "# transpose the index and columns\n",
    "print(third_dataframe.T)"
   ]
  },
  {
   "cell_type": "code",
   "execution_count": 4,
   "metadata": {},
   "outputs": [
    {
     "name": "stdout",
     "output_type": "stream",
     "text": [
      "RangeIndex(start=0, stop=4, step=1)\n"
     ]
    }
   ],
   "source": [
    "# index makes reference to the row labels\n",
    "print(third_dataframe.index)"
   ]
  },
  {
   "cell_type": "code",
   "execution_count": 5,
   "metadata": {},
   "outputs": [
    {
     "name": "stdout",
     "output_type": "stream",
     "text": [
      "Index(['Position', 'Team', 'GF', 'GA', 'Points'], dtype='object')\n"
     ]
    }
   ],
   "source": [
    "# columns makes reference to the column labels\n",
    "print(third_dataframe.columns)"
   ]
  },
  {
   "cell_type": "code",
   "execution_count": 6,
   "metadata": {},
   "outputs": [
    {
     "name": "stdout",
     "output_type": "stream",
     "text": [
      "0          PSV\n",
      "1         Ajax\n",
      "2    Feyenoord\n",
      "3       Twente\n",
      "Name: Team, dtype: object\n"
     ]
    }
   ],
   "source": [
    "# iloc allows to access the index by integer-location (e.g. all team names, which are in the second columm)\n",
    "print(third_dataframe.iloc[:,1])"
   ]
  },
  {
   "cell_type": "code",
   "execution_count": 7,
   "metadata": {},
   "outputs": [
    {
     "name": "stdout",
     "output_type": "stream",
     "text": [
      "PSV\n"
     ]
    }
   ],
   "source": [
    "# loc allows to access the index by label(s)-location (e.g. all team names, which are in the \"Team\" columm)\n",
    "print(third_dataframe.loc[0, 'Team'])"
   ]
  },
  {
   "cell_type": "code",
   "execution_count": 8,
   "metadata": {},
   "outputs": [
    {
     "name": "stdout",
     "output_type": "stream",
     "text": [
      "(4, 5)\n"
     ]
    }
   ],
   "source": [
    "# shape returns a tuple with the DataFrame dimension, similar to numpy\n",
    "print(third_dataframe.shape)"
   ]
  },
  {
   "cell_type": "code",
   "execution_count": 9,
   "metadata": {},
   "outputs": [
    {
     "name": "stdout",
     "output_type": "stream",
     "text": [
      "[['1' 'PSV' '80' '30' '79']\n",
      " ['2' 'Ajax' '75' '25' '78']\n",
      " ['3' 'Feyenoord' '75' '40' '70']\n",
      " ['4' 'Twente' '70' '60' '66']]\n"
     ]
    }
   ],
   "source": [
    "# values return a Numpy representation of the DataFrame data\n",
    "print(third_dataframe.values)"
   ]
  },
  {
   "cell_type": "markdown",
   "metadata": {},
   "source": [
    "### DataFrame methods\n",
    "This section gives a quick overview of some of the `pandas.DataFrame` methods such as `head`, `describe`, `concat`, `groupby`,`rename`, `filter`, `drop` and `isna`. To import data from CSV or MS Excel files, we can make use of `read_csv` and `read_excel`, respectively."
   ]
  },
  {
   "cell_type": "code",
   "execution_count": 10,
   "metadata": {},
   "outputs": [
    {
     "name": "stdout",
     "output_type": "stream",
     "text": [
      "  Position       Team  GF  GA Points\n",
      "0        1        PSV  80  30     79\n",
      "1        2       Ajax  75  25     78\n",
      "2        3  Feyenoord  75  40     70\n",
      "3        4     Twente  70  60     66\n"
     ]
    }
   ],
   "source": [
    "# print the first few rows in your dataset with head()\n",
    "print(third_dataframe.head()) # In this case, it is not very useful because we don't have thousands of rows"
   ]
  },
  {
   "cell_type": "code",
   "execution_count": 11,
   "metadata": {},
   "outputs": [
    {
     "name": "stdout",
     "output_type": "stream",
     "text": [
      "       Position    Team  GF  GA Points\n",
      "count         4       4   4   4      4\n",
      "unique        4       4   3   4      4\n",
      "top           3  Twente  75  25     70\n",
      "freq          1       1   2   1      1\n"
     ]
    }
   ],
   "source": [
    "# get the summary statistics of the DataFrame with describe()\n",
    "print(third_dataframe.describe())"
   ]
  },
  {
   "cell_type": "code",
   "execution_count": 12,
   "metadata": {},
   "outputs": [
    {
     "name": "stdout",
     "output_type": "stream",
     "text": [
      "  Position  Team  GF  GA Points\n",
      "0        1   PSV  80  30     79\n",
      "1        2  Ajax  75  25     78\n",
      "\n",
      "\n",
      "  Position       Team  GF  GA Points\n",
      "2        3  Feyenoord  75  40     70\n",
      "3        4     Twente  70  60     66\n",
      "\n",
      "\n",
      "  Position       Team  GF  GA Points\n",
      "0        1        PSV  80  30     79\n",
      "1        2       Ajax  75  25     78\n",
      "2        3  Feyenoord  75  40     70\n",
      "3        4     Twente  70  60     66\n"
     ]
    }
   ],
   "source": [
    "# concatenate (join) DataFrame objects using concat()\n",
    "\n",
    "# first, we will split the above DataFrame in two different ones\n",
    "df_a = third_dataframe.loc[[0,1],:]\n",
    "df_b = third_dataframe.loc[[2,3],:]\n",
    "\n",
    "print(df_a)\n",
    "print('\\n')\n",
    "\n",
    "print(df_b)\n",
    "print('\\n')\n",
    "\n",
    "# now, we concatenate both datasets\n",
    "df = pd.concat([df_a, df_b])\n",
    "\n",
    "print(df)"
   ]
  },
  {
   "cell_type": "code",
   "execution_count": 13,
   "metadata": {},
   "outputs": [
    {
     "name": "stdout",
     "output_type": "stream",
     "text": [
      "  Position       Team  GF  GA Points\n",
      "1        2       Ajax  75  25     78\n",
      "2        3  Feyenoord  75  40     70\n"
     ]
    }
   ],
   "source": [
    "# group the data by certain variable via groupby()\n",
    "# here, we have grouped the data by goals for, which in this case is 75\n",
    "\n",
    "group = df.groupby('GF')\n",
    "\n",
    "print(group.get_group('75'))"
   ]
  },
  {
   "cell_type": "code",
   "execution_count": 14,
   "metadata": {},
   "outputs": [
    {
     "name": "stdout",
     "output_type": "stream",
     "text": [
      "  Pos       Club  GF  GA Points\n",
      "0   1        PSV  80  30     79\n",
      "1   2       Ajax  75  25     78\n",
      "2   3  Feyenoord  75  40     70\n",
      "3   4     Twente  70  60     66\n"
     ]
    }
   ],
   "source": [
    "# rename() helps you change the column or index names\n",
    "print(df.rename(columns={'Position':'Pos','Team':'Club'}))"
   ]
  },
  {
   "cell_type": "code",
   "execution_count": 15,
   "metadata": {},
   "outputs": [
    {
     "name": "stdout",
     "output_type": "stream",
     "text": [
      "        Team Points\n",
      "0        PSV     79\n",
      "1       Ajax     78\n",
      "2  Feyenoord     70\n",
      "3     Twente     66\n"
     ]
    }
   ],
   "source": [
    "# build a subset of rows or columns of your dataset according to labels via filter()\n",
    "# here, items refer to the variable names: 'Team' and 'Points'; to select columns, we specify axis=1\n",
    "print(df.filter(items=['Team', 'Points'], axis=1))"
   ]
  },
  {
   "cell_type": "code",
   "execution_count": 16,
   "metadata": {},
   "outputs": [
    {
     "name": "stdout",
     "output_type": "stream",
     "text": [
      "  Position       Team Points\n",
      "0        1        PSV     79\n",
      "1        2       Ajax     78\n",
      "2        3  Feyenoord     70\n",
      "3        4     Twente     66\n"
     ]
    }
   ],
   "source": [
    "# dropping some labels\n",
    "print(df.drop(columns=['GF', 'GA']))"
   ]
  },
  {
   "cell_type": "code",
   "execution_count": 17,
   "metadata": {},
   "outputs": [
    {
     "name": "stdout",
     "output_type": "stream",
     "text": [
      "   Position   Team     GF     GA  Points\n",
      "0     False  False  False  False   False\n",
      "1     False  False  False  False   False\n",
      "2     False  False  False  False   False\n",
      "3     False  False  False  False   False\n",
      "\n",
      "\n",
      "  Position       Team  GF  GA Points     W\n",
      "0        1        PSV  80  30     79   NaN\n",
      "1        2       Ajax  75  25     78  25.0\n",
      "2        3  Feyenoord  75  40     70  24.0\n",
      "3        4     Twente  70  60     66  19.0\n",
      "\n",
      "\n",
      "   Position   Team     GF     GA  Points      W\n",
      "0     False  False  False  False   False   True\n",
      "1     False  False  False  False   False  False\n",
      "2     False  False  False  False   False  False\n",
      "3     False  False  False  False   False  False\n"
     ]
    }
   ],
   "source": [
    "# search for NA (not available) entries in the DataFrame\n",
    "print(df.isna()) # No NA values\n",
    "print('\\n')\n",
    "\n",
    "# create a pandas Series with a NA value\n",
    "# the Series as W (winnin matches)\n",
    "tmp = pd.Series([np.NaN, 25, 24, 19],  name=\"W\")\n",
    "\n",
    "# concatenate the Series with the DataFrame\n",
    "df = pd.concat([df,tmp], axis = 1)\n",
    "print(df)\n",
    "print('\\n')\n",
    "\n",
    "# again, check for NA entries\n",
    "print(df.isna())"
   ]
  },
  {
   "cell_type": "markdown",
   "metadata": {},
   "source": [
    "## Dataset\n",
    "\n",
    "For this week exercises we will use a dataset from the Genomics of Drug Sensitivity in Cancer (GDSC) project (https://www.cancerrxgene.org/). In this study (['Iorio et al., Cell, 2016']()), 265 compounds were tested on 1001 cancer cell lines for which different types of -omics data (RNA expression, DNA methylation, Copy Number Alteration, DNA sequencing) are available. This is a valuable resource to look for biomarkers of drugs sensitivity in order to try to understand why cancer patients responds very differently to cancer drugs and find ways to assign the optimal treatment to each patient.\n",
    "\n",
    "For this exercise we will use a subset of the data, focusing the response to the drug YM155 (Sepantronium bromide) on four cancer types, for a total of 148 cancer cell lines.\n",
    "\n",
    "| ID          | Cancer type                      |\n",
    "|-------------|----------------------------------|\n",
    "|   COAD/READ | Colorectal adenocarcinoma        |\n",
    "|   NB        | Neuroblastoma                    |\n",
    "|   KIRC      | Kidney renal clear cell carcinoma|\n",
    "|   BRCA      | Breast carcinoma                 |\n",
    "\n",
    "We will use the RNA expression data (RMA normalised). Only genes with high variability across cell lines (variance > 5, resulting in 238 genes) have been kept.\n",
    "\n",
    "Drugs have been tested at different concentration, measuring each time the viability of the cells. Drug sensitivity is measured using the natural log of the fitted IC50 metric, which is defined as the half maximal inhibitory concentration. A lower IC50 corresponds to a more sensitive cell line because a lower amount of drug is sufficient to have a strong response, while a higher IC50 corresponds to a more resistant cell line because more drug is needed for killing the cells.\n",
    "\n",
    "Based on the IC50 metric, cells can be classified as sensitive or resistant. The classification is done by computing the $z$-score across all cell lines in the GDSC for each drug, and considering as sensitive the ones with $z$-score < 0 and resistant the ones with $z$-score > 0.\n",
    "\n",
    "The dataset is originally provided as 3 files ([original source](https://www.sciencedirect.com/science/article/pii/S0092867416307462?via%3Dihub)) :\n",
    "\n",
    "`GDSC_RNA_expression.csv`: gene expression matrix with the cell lines in the rows (148) and the genes in the columns (238).\n",
    "\n",
    "`GDSC_drug_response.csv`: vector with the cell lines response to the drug YM155 in terms of log(IC50) and as classification in sensitive or resistant.\n",
    "\n",
    "`GDSC_metadata.csv`: metadata for the 148 cell lines including name, COSMIC ID and tumor type (using the classification from ['The Cancer Genome Atlas TCGA'](https://www.cancer.gov/about-nci/organization/ccg/research/structural-genomics/tcga))\n",
    "\n",
    "For convenience, we provide the data already curated.\n",
    "\n",
    "`RNA_expression_curated.csv`: [148 cell lines , 238 genes]\n",
    "\n",
    "`drug_response_curated.csv`: [148 cell lines , YM155 drug]\n",
    "\n",
    "The curated data cam be read as `pandas` `DataFrame`s in the following way:"
   ]
  },
  {
   "cell_type": "code",
   "execution_count": 18,
   "metadata": {},
   "outputs": [],
   "source": [
    "import pandas as pd\n",
    "\n",
    "gene_expression = pd.read_csv(\"./data/RNA_expression_curated.csv\", sep=',', header=0, index_col=0)\n",
    "drug_response = pd.read_csv(\"./data/drug_response_curated.csv\", sep=',', header=0, index_col=0)"
   ]
  },
  {
   "cell_type": "markdown",
   "metadata": {},
   "source": [
    "You can use the `DataFrame`s directly as inputs to the the `sklearn` models. The advantage over using `numpy` arrays is that the variable are annotated, i.e. each input and output has a name."
   ]
  },
  {
   "cell_type": "markdown",
   "metadata": {},
   "source": [
    "## Tools\n",
    "The `scikit-learn` library provides the required tools for linear regression/classification and shrinkage, as well as for logistic regression."
   ]
  },
  {
   "cell_type": "code",
   "execution_count": 19,
   "metadata": {},
   "outputs": [],
   "source": [
    "from sklearn.linear_model import LinearRegression\n",
    "from sklearn.linear_model import Ridge\n",
    "from sklearn.linear_model import Lasso\n",
    "from sklearn.linear_model import LogisticRegression"
   ]
  },
  {
   "cell_type": "markdown",
   "metadata": {},
   "source": [
    "Note that the notation used for the hyperparameters in the `scikit-learn` library is different from the one used in the lecture. More specifically, in the lecture $\\alpha$ is the tunable parameter to select the compromise between Ridge and Lasso. Whereas, `scikit-learn` library refers to `alpha` as the tunable parameter $\\lambda$. Please check the documentation for more details."
   ]
  },
  {
   "cell_type": "markdown",
   "metadata": {},
   "source": [
    "# Exercises\n",
    "\n",
    "## Selection of the hyperparameter\n",
    "\n",
    "Implement cross-validation (using `sklearn.grid_search.GridSearchCV`) to select the `alpha` hyperparameter of `sklearn.linear_model.Lasso`. \n"
   ]
  },
  {
   "cell_type": "code",
   "execution_count": 20,
   "metadata": {},
   "outputs": [],
   "source": [
    "\n",
    "split = round(len(gene_expression)*0.7)\n",
    "X_train = gene_expression.iloc[:split,:]\n",
    "y_train = drug_response.iloc[:split,:]\n",
    "X_test = gene_expression.iloc[split:,:]\n",
    "y_test = drug_response.iloc[split:,:]"
   ]
  },
  {
   "cell_type": "code",
   "execution_count": 21,
   "metadata": {},
   "outputs": [
    {
     "name": "stdout",
     "output_type": "stream",
     "text": [
      "GridSearchCV(cv=4,\n",
      "             estimator=Pipeline(steps=[('scaler', StandardScaler()),\n",
      "                                       ('lasso', Lasso())]),\n",
      "             param_grid={'lasso__alpha': array([0. , 0.1, 0.2, 0.3, 0.4, 0.5, 0.6, 0.7, 0.8, 0.9, 1. ])})\n"
     ]
    },
    {
     "name": "stderr",
     "output_type": "stream",
     "text": [
      "C:\\Users\\menno\\anaconda3\\lib\\site-packages\\sklearn\\pipeline.py:335: UserWarning: With alpha=0, this algorithm does not converge well. You are advised to use the LinearRegression estimator\n",
      "  self._final_estimator.fit(Xt, y, **fit_params_last_step)\n",
      "C:\\Users\\menno\\anaconda3\\lib\\site-packages\\sklearn\\linear_model\\_coordinate_descent.py:531: UserWarning: Coordinate descent with no regularization may lead to unexpected results and is discouraged.\n",
      "  positive)\n",
      "C:\\Users\\menno\\anaconda3\\lib\\site-packages\\sklearn\\pipeline.py:335: UserWarning: With alpha=0, this algorithm does not converge well. You are advised to use the LinearRegression estimator\n",
      "  self._final_estimator.fit(Xt, y, **fit_params_last_step)\n",
      "C:\\Users\\menno\\anaconda3\\lib\\site-packages\\sklearn\\linear_model\\_coordinate_descent.py:531: UserWarning: Coordinate descent with no regularization may lead to unexpected results and is discouraged.\n",
      "  positive)\n",
      "C:\\Users\\menno\\anaconda3\\lib\\site-packages\\sklearn\\pipeline.py:335: UserWarning: With alpha=0, this algorithm does not converge well. You are advised to use the LinearRegression estimator\n",
      "  self._final_estimator.fit(Xt, y, **fit_params_last_step)\n",
      "C:\\Users\\menno\\anaconda3\\lib\\site-packages\\sklearn\\linear_model\\_coordinate_descent.py:531: UserWarning: Coordinate descent with no regularization may lead to unexpected results and is discouraged.\n",
      "  positive)\n",
      "C:\\Users\\menno\\anaconda3\\lib\\site-packages\\sklearn\\pipeline.py:335: UserWarning: With alpha=0, this algorithm does not converge well. You are advised to use the LinearRegression estimator\n",
      "  self._final_estimator.fit(Xt, y, **fit_params_last_step)\n",
      "C:\\Users\\menno\\anaconda3\\lib\\site-packages\\sklearn\\linear_model\\_coordinate_descent.py:531: UserWarning: Coordinate descent with no regularization may lead to unexpected results and is discouraged.\n",
      "  positive)\n"
     ]
    },
    {
     "name": "stdout",
     "output_type": "stream",
     "text": [
      "[11  8  5  3  1  2  4  6  7  9 10]\n"
     ]
    },
    {
     "data": {
      "image/png": "[encoded data removed]",
      "text/plain": [
       "<Figure size 432x288 with 1 Axes>"
      ]
     },
     "metadata": {
      "needs_background": "light"
     },
     "output_type": "display_data"
    }
   ],
   "source": [
    "from sklearn.pipeline import Pipeline\n",
    "from sklearn.model_selection import GridSearchCV\n",
    "from sklearn.preprocessing import StandardScaler\n",
    "import matplotlib.pyplot as plt\n",
    "\n",
    "\n",
    "\n",
    "def lasso_regression(X_train_data,y_train_data,X_test_data,y_test_data,alpha_list = []):\n",
    "    scaler = StandardScaler()\n",
    "\n",
    "    model = Pipeline([\n",
    "            (\"scaler\", scaler),\n",
    "            (\"lasso\", Lasso())\n",
    "            ])\n",
    "\n",
    "    clf = GridSearchCV(estimator=model,param_grid = {'lasso__alpha':alpha_list},cv=4)\n",
    "    print(clf)\n",
    "    clf.fit(X_train_data,y_train_data)\n",
    "    y_predicted = clf.predict(X_test_data)\n",
    "#     clf.n_features_\n",
    "    return clf, y_predicted\n",
    "\n",
    "\n",
    "def plot_score(clft):\n",
    "    fig = plt.figure()\n",
    "    results = clft.cv_results_['mean_test_score']\n",
    "    plt.plot(alpha_list,results)\n",
    "\n",
    "    plt.plot(alpha_list[int(np.where(results == np.amax(results))[0])],np.amax(results),'ro')\n",
    "    plt.xlabel('alpha ')\n",
    "    plt.ylabel('mean test score')\n",
    "\n",
    "    print(clft.cv_results_['rank_test_score'])\n",
    "    \n",
    "alpha_list = np.linspace(0,1,11)\n",
    "clf, y_predicted = lasso_regression(X_train,y_train,X_test,y_test,alpha_list)\n",
    "plot_score(clf)"
   ]
  },
  {
   "cell_type": "markdown",
   "metadata": {},
   "source": [
    "Invalid parameter alpha for estimator Pipeline(steps=[('scaler', StandardScaler()), ('lasso', Lasso())]). Check the list of available parameters with `estimator.get_params().keys()`."
   ]
  },
  {
   "cell_type": "markdown",
   "metadata": {},
   "source": [
    "## Feature selection\n",
    "\n",
    "Look at the features selected using the hyperparameter which corresponds to the minimum cross-validation error.\n",
    "\n",
    "<p><font color='#770a0a'>Is the partition in training and validation sets playing a role in the selection of the hyperparameter? How will this affect the selection of the relevant features?</font></p>\n",
    "\n",
    "<p><font color='#770a0a'>Should the value of the intercept also be shrunk to zero with Lasso and Ridge regression? Motivate your answer.</font></p>\n"
   ]
  },
  {
   "cell_type": "code",
   "execution_count": 22,
   "metadata": {},
   "outputs": [],
   "source": [
    "def get_resultingfeatures(clf,gene_expression):\n",
    "    featurenames=list(gene_expression.columns)\n",
    "    coefficients = clf.best_estimator_.named_steps['lasso'].coef_\n",
    "    coefficients = np.abs(coefficients) #take absolute value\n",
    "    resultingfeatures = np.array(featurenames)[coefficients > 0]\n",
    "    indexes = [i for i, x in enumerate(coefficients) if x>0]\n",
    "    return resultingfeatures\n",
    "\n"
   ]
  },
  {
   "cell_type": "code",
   "execution_count": 23,
   "metadata": {},
   "outputs": [
    {
     "name": "stdout",
     "output_type": "stream",
     "text": [
      "GridSearchCV(cv=4,\n",
      "             estimator=Pipeline(steps=[('scaler', StandardScaler()),\n",
      "                                       ('lasso', Lasso())]),\n",
      "             param_grid={'lasso__alpha': array([0. , 0.1, 0.2, 0.3, 0.4, 0.5, 0.6, 0.7, 0.8, 0.9, 1. ])})\n"
     ]
    },
    {
     "name": "stderr",
     "output_type": "stream",
     "text": [
      "C:\\Users\\menno\\anaconda3\\lib\\site-packages\\sklearn\\pipeline.py:335: UserWarning: With alpha=0, this algorithm does not converge well. You are advised to use the LinearRegression estimator\n",
      "  self._final_estimator.fit(Xt, y, **fit_params_last_step)\n",
      "C:\\Users\\menno\\anaconda3\\lib\\site-packages\\sklearn\\linear_model\\_coordinate_descent.py:531: UserWarning: Coordinate descent with no regularization may lead to unexpected results and is discouraged.\n",
      "  positive)\n",
      "C:\\Users\\menno\\anaconda3\\lib\\site-packages\\sklearn\\pipeline.py:335: UserWarning: With alpha=0, this algorithm does not converge well. You are advised to use the LinearRegression estimator\n",
      "  self._final_estimator.fit(Xt, y, **fit_params_last_step)\n",
      "C:\\Users\\menno\\anaconda3\\lib\\site-packages\\sklearn\\linear_model\\_coordinate_descent.py:531: UserWarning: Coordinate descent with no regularization may lead to unexpected results and is discouraged.\n",
      "  positive)\n",
      "C:\\Users\\menno\\anaconda3\\lib\\site-packages\\sklearn\\pipeline.py:335: UserWarning: With alpha=0, this algorithm does not converge well. You are advised to use the LinearRegression estimator\n",
      "  self._final_estimator.fit(Xt, y, **fit_params_last_step)\n",
      "C:\\Users\\menno\\anaconda3\\lib\\site-packages\\sklearn\\linear_model\\_coordinate_descent.py:531: UserWarning: Coordinate descent with no regularization may lead to unexpected results and is discouraged.\n",
      "  positive)\n",
      "C:\\Users\\menno\\anaconda3\\lib\\site-packages\\sklearn\\pipeline.py:335: UserWarning: With alpha=0, this algorithm does not converge well. You are advised to use the LinearRegression estimator\n",
      "  self._final_estimator.fit(Xt, y, **fit_params_last_step)\n",
      "C:\\Users\\menno\\anaconda3\\lib\\site-packages\\sklearn\\linear_model\\_coordinate_descent.py:531: UserWarning: Coordinate descent with no regularization may lead to unexpected results and is discouraged.\n",
      "  positive)\n"
     ]
    },
    {
     "name": "stdout",
     "output_type": "stream",
     "text": [
      "GridSearchCV(cv=4,\n",
      "             estimator=Pipeline(steps=[('scaler', StandardScaler()),\n",
      "                                       ('lasso', Lasso())]),\n",
      "             param_grid={'lasso__alpha': array([0. , 0.1, 0.2, 0.3, 0.4, 0.5, 0.6, 0.7, 0.8, 0.9, 1. ])})\n"
     ]
    },
    {
     "name": "stderr",
     "output_type": "stream",
     "text": [
      "C:\\Users\\menno\\anaconda3\\lib\\site-packages\\sklearn\\pipeline.py:335: UserWarning: With alpha=0, this algorithm does not converge well. You are advised to use the LinearRegression estimator\n",
      "  self._final_estimator.fit(Xt, y, **fit_params_last_step)\n",
      "C:\\Users\\menno\\anaconda3\\lib\\site-packages\\sklearn\\linear_model\\_coordinate_descent.py:531: UserWarning: Coordinate descent with no regularization may lead to unexpected results and is discouraged.\n",
      "  positive)\n",
      "C:\\Users\\menno\\anaconda3\\lib\\site-packages\\sklearn\\pipeline.py:335: UserWarning: With alpha=0, this algorithm does not converge well. You are advised to use the LinearRegression estimator\n",
      "  self._final_estimator.fit(Xt, y, **fit_params_last_step)\n",
      "C:\\Users\\menno\\anaconda3\\lib\\site-packages\\sklearn\\linear_model\\_coordinate_descent.py:531: UserWarning: Coordinate descent with no regularization may lead to unexpected results and is discouraged.\n",
      "  positive)\n",
      "C:\\Users\\menno\\anaconda3\\lib\\site-packages\\sklearn\\pipeline.py:335: UserWarning: With alpha=0, this algorithm does not converge well. You are advised to use the LinearRegression estimator\n",
      "  self._final_estimator.fit(Xt, y, **fit_params_last_step)\n",
      "C:\\Users\\menno\\anaconda3\\lib\\site-packages\\sklearn\\linear_model\\_coordinate_descent.py:531: UserWarning: Coordinate descent with no regularization may lead to unexpected results and is discouraged.\n",
      "  positive)\n",
      "C:\\Users\\menno\\anaconda3\\lib\\site-packages\\sklearn\\pipeline.py:335: UserWarning: With alpha=0, this algorithm does not converge well. You are advised to use the LinearRegression estimator\n",
      "  self._final_estimator.fit(Xt, y, **fit_params_last_step)\n",
      "C:\\Users\\menno\\anaconda3\\lib\\site-packages\\sklearn\\linear_model\\_coordinate_descent.py:531: UserWarning: Coordinate descent with no regularization may lead to unexpected results and is discouraged.\n",
      "  positive)\n"
     ]
    },
    {
     "name": "stdout",
     "output_type": "stream",
     "text": [
      "GridSearchCV(cv=4,\n",
      "             estimator=Pipeline(steps=[('scaler', StandardScaler()),\n",
      "                                       ('lasso', Lasso())]),\n",
      "             param_grid={'lasso__alpha': array([0. , 0.1, 0.2, 0.3, 0.4, 0.5, 0.6, 0.7, 0.8, 0.9, 1. ])})\n"
     ]
    },
    {
     "name": "stderr",
     "output_type": "stream",
     "text": [
      "C:\\Users\\menno\\anaconda3\\lib\\site-packages\\sklearn\\pipeline.py:335: UserWarning: With alpha=0, this algorithm does not converge well. You are advised to use the LinearRegression estimator\n",
      "  self._final_estimator.fit(Xt, y, **fit_params_last_step)\n",
      "C:\\Users\\menno\\anaconda3\\lib\\site-packages\\sklearn\\linear_model\\_coordinate_descent.py:531: UserWarning: Coordinate descent with no regularization may lead to unexpected results and is discouraged.\n",
      "  positive)\n",
      "C:\\Users\\menno\\anaconda3\\lib\\site-packages\\sklearn\\pipeline.py:335: UserWarning: With alpha=0, this algorithm does not converge well. You are advised to use the LinearRegression estimator\n",
      "  self._final_estimator.fit(Xt, y, **fit_params_last_step)\n",
      "C:\\Users\\menno\\anaconda3\\lib\\site-packages\\sklearn\\linear_model\\_coordinate_descent.py:531: UserWarning: Coordinate descent with no regularization may lead to unexpected results and is discouraged.\n",
      "  positive)\n",
      "C:\\Users\\menno\\anaconda3\\lib\\site-packages\\sklearn\\pipeline.py:335: UserWarning: With alpha=0, this algorithm does not converge well. You are advised to use the LinearRegression estimator\n",
      "  self._final_estimator.fit(Xt, y, **fit_params_last_step)\n",
      "C:\\Users\\menno\\anaconda3\\lib\\site-packages\\sklearn\\linear_model\\_coordinate_descent.py:531: UserWarning: Coordinate descent with no regularization may lead to unexpected results and is discouraged.\n",
      "  positive)\n",
      "C:\\Users\\menno\\anaconda3\\lib\\site-packages\\sklearn\\pipeline.py:335: UserWarning: With alpha=0, this algorithm does not converge well. You are advised to use the LinearRegression estimator\n",
      "  self._final_estimator.fit(Xt, y, **fit_params_last_step)\n",
      "C:\\Users\\menno\\anaconda3\\lib\\site-packages\\sklearn\\linear_model\\_coordinate_descent.py:531: UserWarning: Coordinate descent with no regularization may lead to unexpected results and is discouraged.\n",
      "  positive)\n"
     ]
    },
    {
     "name": "stdout",
     "output_type": "stream",
     "text": [
      "GridSearchCV(cv=4,\n",
      "             estimator=Pipeline(steps=[('scaler', StandardScaler()),\n",
      "                                       ('lasso', Lasso())]),\n",
      "             param_grid={'lasso__alpha': array([0. , 0.1, 0.2, 0.3, 0.4, 0.5, 0.6, 0.7, 0.8, 0.9, 1. ])})\n"
     ]
    },
    {
     "name": "stderr",
     "output_type": "stream",
     "text": [
      "C:\\Users\\menno\\anaconda3\\lib\\site-packages\\sklearn\\pipeline.py:335: UserWarning: With alpha=0, this algorithm does not converge well. You are advised to use the LinearRegression estimator\n",
      "  self._final_estimator.fit(Xt, y, **fit_params_last_step)\n",
      "C:\\Users\\menno\\anaconda3\\lib\\site-packages\\sklearn\\linear_model\\_coordinate_descent.py:531: UserWarning: Coordinate descent with no regularization may lead to unexpected results and is discouraged.\n",
      "  positive)\n",
      "C:\\Users\\menno\\anaconda3\\lib\\site-packages\\sklearn\\pipeline.py:335: UserWarning: With alpha=0, this algorithm does not converge well. You are advised to use the LinearRegression estimator\n",
      "  self._final_estimator.fit(Xt, y, **fit_params_last_step)\n",
      "C:\\Users\\menno\\anaconda3\\lib\\site-packages\\sklearn\\linear_model\\_coordinate_descent.py:531: UserWarning: Coordinate descent with no regularization may lead to unexpected results and is discouraged.\n",
      "  positive)\n",
      "C:\\Users\\menno\\anaconda3\\lib\\site-packages\\sklearn\\pipeline.py:335: UserWarning: With alpha=0, this algorithm does not converge well. You are advised to use the LinearRegression estimator\n",
      "  self._final_estimator.fit(Xt, y, **fit_params_last_step)\n",
      "C:\\Users\\menno\\anaconda3\\lib\\site-packages\\sklearn\\linear_model\\_coordinate_descent.py:531: UserWarning: Coordinate descent with no regularization may lead to unexpected results and is discouraged.\n",
      "  positive)\n",
      "C:\\Users\\menno\\anaconda3\\lib\\site-packages\\sklearn\\pipeline.py:335: UserWarning: With alpha=0, this algorithm does not converge well. You are advised to use the LinearRegression estimator\n",
      "  self._final_estimator.fit(Xt, y, **fit_params_last_step)\n",
      "C:\\Users\\menno\\anaconda3\\lib\\site-packages\\sklearn\\linear_model\\_coordinate_descent.py:531: UserWarning: Coordinate descent with no regularization may lead to unexpected results and is discouraged.\n",
      "  positive)\n"
     ]
    },
    {
     "name": "stdout",
     "output_type": "stream",
     "text": [
      "GridSearchCV(cv=4,\n",
      "             estimator=Pipeline(steps=[('scaler', StandardScaler()),\n",
      "                                       ('lasso', Lasso())]),\n",
      "             param_grid={'lasso__alpha': array([0. , 0.1, 0.2, 0.3, 0.4, 0.5, 0.6, 0.7, 0.8, 0.9, 1. ])})\n"
     ]
    },
    {
     "name": "stderr",
     "output_type": "stream",
     "text": [
      "C:\\Users\\menno\\anaconda3\\lib\\site-packages\\sklearn\\pipeline.py:335: UserWarning: With alpha=0, this algorithm does not converge well. You are advised to use the LinearRegression estimator\n",
      "  self._final_estimator.fit(Xt, y, **fit_params_last_step)\n",
      "C:\\Users\\menno\\anaconda3\\lib\\site-packages\\sklearn\\linear_model\\_coordinate_descent.py:531: UserWarning: Coordinate descent with no regularization may lead to unexpected results and is discouraged.\n",
      "  positive)\n",
      "C:\\Users\\menno\\anaconda3\\lib\\site-packages\\sklearn\\pipeline.py:335: UserWarning: With alpha=0, this algorithm does not converge well. You are advised to use the LinearRegression estimator\n",
      "  self._final_estimator.fit(Xt, y, **fit_params_last_step)\n",
      "C:\\Users\\menno\\anaconda3\\lib\\site-packages\\sklearn\\linear_model\\_coordinate_descent.py:531: UserWarning: Coordinate descent with no regularization may lead to unexpected results and is discouraged.\n",
      "  positive)\n",
      "C:\\Users\\menno\\anaconda3\\lib\\site-packages\\sklearn\\pipeline.py:335: UserWarning: With alpha=0, this algorithm does not converge well. You are advised to use the LinearRegression estimator\n",
      "  self._final_estimator.fit(Xt, y, **fit_params_last_step)\n",
      "C:\\Users\\menno\\anaconda3\\lib\\site-packages\\sklearn\\linear_model\\_coordinate_descent.py:531: UserWarning: Coordinate descent with no regularization may lead to unexpected results and is discouraged.\n",
      "  positive)\n",
      "C:\\Users\\menno\\anaconda3\\lib\\site-packages\\sklearn\\pipeline.py:335: UserWarning: With alpha=0, this algorithm does not converge well. You are advised to use the LinearRegression estimator\n",
      "  self._final_estimator.fit(Xt, y, **fit_params_last_step)\n",
      "C:\\Users\\menno\\anaconda3\\lib\\site-packages\\sklearn\\linear_model\\_coordinate_descent.py:531: UserWarning: Coordinate descent with no regularization may lead to unexpected results and is discouraged.\n",
      "  positive)\n"
     ]
    },
    {
     "name": "stdout",
     "output_type": "stream",
     "text": [
      "GridSearchCV(cv=4,\n",
      "             estimator=Pipeline(steps=[('scaler', StandardScaler()),\n",
      "                                       ('lasso', Lasso())]),\n",
      "             param_grid={'lasso__alpha': array([0. , 0.1, 0.2, 0.3, 0.4, 0.5, 0.6, 0.7, 0.8, 0.9, 1. ])})\n"
     ]
    },
    {
     "name": "stderr",
     "output_type": "stream",
     "text": [
      "C:\\Users\\menno\\anaconda3\\lib\\site-packages\\sklearn\\pipeline.py:335: UserWarning: With alpha=0, this algorithm does not converge well. You are advised to use the LinearRegression estimator\n",
      "  self._final_estimator.fit(Xt, y, **fit_params_last_step)\n",
      "C:\\Users\\menno\\anaconda3\\lib\\site-packages\\sklearn\\linear_model\\_coordinate_descent.py:531: UserWarning: Coordinate descent with no regularization may lead to unexpected results and is discouraged.\n",
      "  positive)\n",
      "C:\\Users\\menno\\anaconda3\\lib\\site-packages\\sklearn\\pipeline.py:335: UserWarning: With alpha=0, this algorithm does not converge well. You are advised to use the LinearRegression estimator\n",
      "  self._final_estimator.fit(Xt, y, **fit_params_last_step)\n",
      "C:\\Users\\menno\\anaconda3\\lib\\site-packages\\sklearn\\linear_model\\_coordinate_descent.py:531: UserWarning: Coordinate descent with no regularization may lead to unexpected results and is discouraged.\n",
      "  positive)\n",
      "C:\\Users\\menno\\anaconda3\\lib\\site-packages\\sklearn\\pipeline.py:335: UserWarning: With alpha=0, this algorithm does not converge well. You are advised to use the LinearRegression estimator\n",
      "  self._final_estimator.fit(Xt, y, **fit_params_last_step)\n",
      "C:\\Users\\menno\\anaconda3\\lib\\site-packages\\sklearn\\linear_model\\_coordinate_descent.py:531: UserWarning: Coordinate descent with no regularization may lead to unexpected results and is discouraged.\n",
      "  positive)\n",
      "C:\\Users\\menno\\anaconda3\\lib\\site-packages\\sklearn\\pipeline.py:335: UserWarning: With alpha=0, this algorithm does not converge well. You are advised to use the LinearRegression estimator\n",
      "  self._final_estimator.fit(Xt, y, **fit_params_last_step)\n",
      "C:\\Users\\menno\\anaconda3\\lib\\site-packages\\sklearn\\linear_model\\_coordinate_descent.py:531: UserWarning: Coordinate descent with no regularization may lead to unexpected results and is discouraged.\n",
      "  positive)\n"
     ]
    },
    {
     "name": "stdout",
     "output_type": "stream",
     "text": [
      "GridSearchCV(cv=4,\n",
      "             estimator=Pipeline(steps=[('scaler', StandardScaler()),\n",
      "                                       ('lasso', Lasso())]),\n",
      "             param_grid={'lasso__alpha': array([0. , 0.1, 0.2, 0.3, 0.4, 0.5, 0.6, 0.7, 0.8, 0.9, 1. ])})\n"
     ]
    },
    {
     "name": "stderr",
     "output_type": "stream",
     "text": [
      "C:\\Users\\menno\\anaconda3\\lib\\site-packages\\sklearn\\pipeline.py:335: UserWarning: With alpha=0, this algorithm does not converge well. You are advised to use the LinearRegression estimator\n",
      "  self._final_estimator.fit(Xt, y, **fit_params_last_step)\n",
      "C:\\Users\\menno\\anaconda3\\lib\\site-packages\\sklearn\\linear_model\\_coordinate_descent.py:531: UserWarning: Coordinate descent with no regularization may lead to unexpected results and is discouraged.\n",
      "  positive)\n",
      "C:\\Users\\menno\\anaconda3\\lib\\site-packages\\sklearn\\pipeline.py:335: UserWarning: With alpha=0, this algorithm does not converge well. You are advised to use the LinearRegression estimator\n",
      "  self._final_estimator.fit(Xt, y, **fit_params_last_step)\n",
      "C:\\Users\\menno\\anaconda3\\lib\\site-packages\\sklearn\\linear_model\\_coordinate_descent.py:531: UserWarning: Coordinate descent with no regularization may lead to unexpected results and is discouraged.\n",
      "  positive)\n",
      "C:\\Users\\menno\\anaconda3\\lib\\site-packages\\sklearn\\pipeline.py:335: UserWarning: With alpha=0, this algorithm does not converge well. You are advised to use the LinearRegression estimator\n",
      "  self._final_estimator.fit(Xt, y, **fit_params_last_step)\n",
      "C:\\Users\\menno\\anaconda3\\lib\\site-packages\\sklearn\\linear_model\\_coordinate_descent.py:531: UserWarning: Coordinate descent with no regularization may lead to unexpected results and is discouraged.\n",
      "  positive)\n",
      "C:\\Users\\menno\\anaconda3\\lib\\site-packages\\sklearn\\pipeline.py:335: UserWarning: With alpha=0, this algorithm does not converge well. You are advised to use the LinearRegression estimator\n",
      "  self._final_estimator.fit(Xt, y, **fit_params_last_step)\n",
      "C:\\Users\\menno\\anaconda3\\lib\\site-packages\\sklearn\\linear_model\\_coordinate_descent.py:531: UserWarning: Coordinate descent with no regularization may lead to unexpected results and is discouraged.\n",
      "  positive)\n"
     ]
    },
    {
     "name": "stdout",
     "output_type": "stream",
     "text": [
      "GridSearchCV(cv=4,\n",
      "             estimator=Pipeline(steps=[('scaler', StandardScaler()),\n",
      "                                       ('lasso', Lasso())]),\n",
      "             param_grid={'lasso__alpha': array([0. , 0.1, 0.2, 0.3, 0.4, 0.5, 0.6, 0.7, 0.8, 0.9, 1. ])})\n"
     ]
    },
    {
     "name": "stderr",
     "output_type": "stream",
     "text": [
      "C:\\Users\\menno\\anaconda3\\lib\\site-packages\\sklearn\\pipeline.py:335: UserWarning: With alpha=0, this algorithm does not converge well. You are advised to use the LinearRegression estimator\n",
      "  self._final_estimator.fit(Xt, y, **fit_params_last_step)\n",
      "C:\\Users\\menno\\anaconda3\\lib\\site-packages\\sklearn\\linear_model\\_coordinate_descent.py:531: UserWarning: Coordinate descent with no regularization may lead to unexpected results and is discouraged.\n",
      "  positive)\n",
      "C:\\Users\\menno\\anaconda3\\lib\\site-packages\\sklearn\\pipeline.py:335: UserWarning: With alpha=0, this algorithm does not converge well. You are advised to use the LinearRegression estimator\n",
      "  self._final_estimator.fit(Xt, y, **fit_params_last_step)\n",
      "C:\\Users\\menno\\anaconda3\\lib\\site-packages\\sklearn\\linear_model\\_coordinate_descent.py:531: UserWarning: Coordinate descent with no regularization may lead to unexpected results and is discouraged.\n",
      "  positive)\n",
      "C:\\Users\\menno\\anaconda3\\lib\\site-packages\\sklearn\\pipeline.py:335: UserWarning: With alpha=0, this algorithm does not converge well. You are advised to use the LinearRegression estimator\n",
      "  self._final_estimator.fit(Xt, y, **fit_params_last_step)\n",
      "C:\\Users\\menno\\anaconda3\\lib\\site-packages\\sklearn\\linear_model\\_coordinate_descent.py:531: UserWarning: Coordinate descent with no regularization may lead to unexpected results and is discouraged.\n",
      "  positive)\n",
      "C:\\Users\\menno\\anaconda3\\lib\\site-packages\\sklearn\\pipeline.py:335: UserWarning: With alpha=0, this algorithm does not converge well. You are advised to use the LinearRegression estimator\n",
      "  self._final_estimator.fit(Xt, y, **fit_params_last_step)\n",
      "C:\\Users\\menno\\anaconda3\\lib\\site-packages\\sklearn\\linear_model\\_coordinate_descent.py:531: UserWarning: Coordinate descent with no regularization may lead to unexpected results and is discouraged.\n",
      "  positive)\n"
     ]
    },
    {
     "name": "stdout",
     "output_type": "stream",
     "text": [
      "GridSearchCV(cv=4,\n",
      "             estimator=Pipeline(steps=[('scaler', StandardScaler()),\n",
      "                                       ('lasso', Lasso())]),\n",
      "             param_grid={'lasso__alpha': array([0. , 0.1, 0.2, 0.3, 0.4, 0.5, 0.6, 0.7, 0.8, 0.9, 1. ])})\n"
     ]
    },
    {
     "name": "stderr",
     "output_type": "stream",
     "text": [
      "C:\\Users\\menno\\anaconda3\\lib\\site-packages\\sklearn\\pipeline.py:335: UserWarning: With alpha=0, this algorithm does not converge well. You are advised to use the LinearRegression estimator\n",
      "  self._final_estimator.fit(Xt, y, **fit_params_last_step)\n",
      "C:\\Users\\menno\\anaconda3\\lib\\site-packages\\sklearn\\linear_model\\_coordinate_descent.py:531: UserWarning: Coordinate descent with no regularization may lead to unexpected results and is discouraged.\n",
      "  positive)\n",
      "C:\\Users\\menno\\anaconda3\\lib\\site-packages\\sklearn\\pipeline.py:335: UserWarning: With alpha=0, this algorithm does not converge well. You are advised to use the LinearRegression estimator\n",
      "  self._final_estimator.fit(Xt, y, **fit_params_last_step)\n",
      "C:\\Users\\menno\\anaconda3\\lib\\site-packages\\sklearn\\linear_model\\_coordinate_descent.py:531: UserWarning: Coordinate descent with no regularization may lead to unexpected results and is discouraged.\n",
      "  positive)\n",
      "C:\\Users\\menno\\anaconda3\\lib\\site-packages\\sklearn\\pipeline.py:335: UserWarning: With alpha=0, this algorithm does not converge well. You are advised to use the LinearRegression estimator\n",
      "  self._final_estimator.fit(Xt, y, **fit_params_last_step)\n",
      "C:\\Users\\menno\\anaconda3\\lib\\site-packages\\sklearn\\linear_model\\_coordinate_descent.py:531: UserWarning: Coordinate descent with no regularization may lead to unexpected results and is discouraged.\n",
      "  positive)\n",
      "C:\\Users\\menno\\anaconda3\\lib\\site-packages\\sklearn\\pipeline.py:335: UserWarning: With alpha=0, this algorithm does not converge well. You are advised to use the LinearRegression estimator\n",
      "  self._final_estimator.fit(Xt, y, **fit_params_last_step)\n",
      "C:\\Users\\menno\\anaconda3\\lib\\site-packages\\sklearn\\linear_model\\_coordinate_descent.py:531: UserWarning: Coordinate descent with no regularization may lead to unexpected results and is discouraged.\n",
      "  positive)\n"
     ]
    },
    {
     "name": "stdout",
     "output_type": "stream",
     "text": [
      "GridSearchCV(cv=4,\n",
      "             estimator=Pipeline(steps=[('scaler', StandardScaler()),\n",
      "                                       ('lasso', Lasso())]),\n",
      "             param_grid={'lasso__alpha': array([0. , 0.1, 0.2, 0.3, 0.4, 0.5, 0.6, 0.7, 0.8, 0.9, 1. ])})\n"
     ]
    },
    {
     "name": "stderr",
     "output_type": "stream",
     "text": [
      "C:\\Users\\menno\\anaconda3\\lib\\site-packages\\sklearn\\pipeline.py:335: UserWarning: With alpha=0, this algorithm does not converge well. You are advised to use the LinearRegression estimator\n",
      "  self._final_estimator.fit(Xt, y, **fit_params_last_step)\n",
      "C:\\Users\\menno\\anaconda3\\lib\\site-packages\\sklearn\\linear_model\\_coordinate_descent.py:531: UserWarning: Coordinate descent with no regularization may lead to unexpected results and is discouraged.\n",
      "  positive)\n",
      "C:\\Users\\menno\\anaconda3\\lib\\site-packages\\sklearn\\pipeline.py:335: UserWarning: With alpha=0, this algorithm does not converge well. You are advised to use the LinearRegression estimator\n",
      "  self._final_estimator.fit(Xt, y, **fit_params_last_step)\n",
      "C:\\Users\\menno\\anaconda3\\lib\\site-packages\\sklearn\\linear_model\\_coordinate_descent.py:531: UserWarning: Coordinate descent with no regularization may lead to unexpected results and is discouraged.\n",
      "  positive)\n",
      "C:\\Users\\menno\\anaconda3\\lib\\site-packages\\sklearn\\pipeline.py:335: UserWarning: With alpha=0, this algorithm does not converge well. You are advised to use the LinearRegression estimator\n",
      "  self._final_estimator.fit(Xt, y, **fit_params_last_step)\n",
      "C:\\Users\\menno\\anaconda3\\lib\\site-packages\\sklearn\\linear_model\\_coordinate_descent.py:531: UserWarning: Coordinate descent with no regularization may lead to unexpected results and is discouraged.\n",
      "  positive)\n",
      "C:\\Users\\menno\\anaconda3\\lib\\site-packages\\sklearn\\pipeline.py:335: UserWarning: With alpha=0, this algorithm does not converge well. You are advised to use the LinearRegression estimator\n",
      "  self._final_estimator.fit(Xt, y, **fit_params_last_step)\n",
      "C:\\Users\\menno\\anaconda3\\lib\\site-packages\\sklearn\\linear_model\\_coordinate_descent.py:531: UserWarning: Coordinate descent with no regularization may lead to unexpected results and is discouraged.\n",
      "  positive)\n"
     ]
    }
   ],
   "source": [
    "import random\n",
    "\n",
    "all_hyperparameters = []\n",
    "all_resultingfeatures = []\n",
    "\n",
    "\n",
    "N = 10\n",
    "for n in range(N):\n",
    "    indexes = list(range(len(gene_expression)))\n",
    "    random.shuffle(indexes)\n",
    "    gene_expression.iloc[indexes[:split],:]\n",
    "\n",
    "\n",
    "    X_train = gene_expression.iloc[indexes[:split],:]\n",
    "    y_train = drug_response.iloc[indexes[:split],:]\n",
    "    X_test = gene_expression.iloc[indexes[split:],:]\n",
    "    y_test = drug_response.iloc[indexes[split:],:]\n",
    "    clf, y_predicted = lasso_regression(X_train,y_train,X_test,y_test,alpha_list)\n",
    "    all_resultingfeatures.append(get_resultingfeatures(clf,gene_expression))\n",
    "    all_hyperparameters.append(float(alpha_list[np.where(clf.cv_results_['rank_test_score']==1)]))\n",
    "\n"
   ]
  },
  {
   "cell_type": "code",
   "execution_count": 24,
   "metadata": {},
   "outputs": [
    {
     "name": "stdout",
     "output_type": "stream",
     "text": [
      "hyper parameter = 0.30000000000000004 and the features are:\n",
      " ['GAL' 'ABCB1' 'C3orf14' 'DUSP6' 'SELENBP1' 'AKR1C2' 'FABP1' 'FBP1' 'CDX2'\n",
      " 'AGR3' 'AKR1B10']\n",
      "\n",
      "\n",
      "hyper parameter = 0.4 and the features are:\n",
      " ['ABCB1' 'RARRES3' 'CYR61' 'SELENBP1' 'TFF3' 'FABP1' 'CDX2']\n",
      "\n",
      "\n",
      "hyper parameter = 0.4 and the features are:\n",
      " ['CDH17' 'ABCB1' 'SELENBP1' 'FABP1' 'AKR1C3']\n",
      "\n",
      "\n",
      "hyper parameter = 0.5 and the features are:\n",
      " ['CDH17' 'ABCB1']\n",
      "\n",
      "\n",
      "hyper parameter = 0.4 and the features are:\n",
      " ['CDH17' 'ABCB1' 'RARRES3' 'FABP1' 'CDX2' 'AKR1C3']\n",
      "\n",
      "\n",
      "hyper parameter = 0.6000000000000001 and the features are:\n",
      " ['CDH17' 'ABCB1' 'FABP1']\n",
      "\n",
      "\n",
      "hyper parameter = 0.7000000000000001 and the features are:\n",
      " ['ABCB1' 'TSPAN8' 'FABP1' 'CDX2']\n",
      "\n",
      "\n",
      "hyper parameter = 0.5 and the features are:\n",
      " ['PRSS3' 'ABCB1' 'FABP1' 'CDX2']\n",
      "\n",
      "\n",
      "hyper parameter = 0.5 and the features are:\n",
      " ['ABCB1' 'TSPAN8' 'FABP1' 'CDX2']\n",
      "\n",
      "\n",
      "hyper parameter = 0.6000000000000001 and the features are:\n",
      " ['CDH17' 'ABCB1' 'FABP1']\n",
      "\n",
      "\n"
     ]
    }
   ],
   "source": [
    "all_parameters = []\n",
    "for k in range(N):     \n",
    "    print(f'hyper parameter = {all_hyperparameters[k]} and the features are:\\n {all_resultingfeatures[k]}\\n\\n')\n",
    "    all_parameters+=list(all_resultingfeatures[k])"
   ]
  },
  {
   "cell_type": "code",
   "execution_count": 29,
   "metadata": {},
   "outputs": [
    {
     "name": "stdout",
     "output_type": "stream",
     "text": [
      "The features that are most represented in the 10 runs are:\n"
     ]
    },
    {
     "data": {
      "text/plain": [
       "[['ABCB1', 10], ['FABP1', 9], ['CDX2', 6], ['CDH17', 5], ['SELENBP1', 3]]"
      ]
     },
     "execution_count": 29,
     "metadata": {},
     "output_type": "execute_result"
    }
   ],
   "source": [
    "def takeSecond(elem):\n",
    "    return elem[1]\n",
    "\n",
    "set_par = set(all_parameters)\n",
    "counts = []\n",
    "for par in set_par:\n",
    "    counts.append([par,all_parameters.count(par)])\n",
    "\n",
    "counts.sort(reverse=True,key=takeSecond)\n",
    "print(f'The features that are most represented in the {N} runs are:')\n",
    "counts[:5]"
   ]
  },
  {
   "cell_type": "markdown",
   "metadata": {},
   "source": [
    "<p><font color='#770a0a'>Is the partition in training and validation sets playing a role in the selection of the hyperparameter? How will this affect the selection of the relevant features?</font></p>\n",
    "\n",
    "$\\bf{Answers:}$ In order to analyse this, the same gridsearch as in the first question has been performed for new random partitions of the training and validation sets. The size of the training set has always been set to 70 % of the total database. The results from these runs are printed in the two cells above. Even though every time that the script is runned, the results are slightly different, we can still say something about it. The selection of the hyperparameter is different for multiple runs. Most of the times, the hyperparameters are 0.4, 0.5 or 0.6, but it sometimes happens to be in the range of 0.2 to 0.7. A further analyses is required to calculate the individual probabilities and calculate an optimal hyperparameter.\n",
    "\n",
    "\n",
    "Besides, it can be seen that the number of features increases when the chosen hyperparameter is lower. To select the most important features, it is analysed what features are accuring the most over the 10 runs. It can be seen that at least 'ABCB1'  'FABP1' and 'CDX2' are important features, since they always occure in the random selections of databases. \n",
    "\n",
    "\n",
    "<p><font color='#770a0a'>Should the value of the intercept also be shrunk to zero with Lasso and Ridge regression? Motivate your answer.</font></p>\n",
    "\n",
    "$\\bf{Answers:}$ The goal of Lasso and Ridge regression is to limit the number of features. This is done by finding the most meaningful features. Therefore the intercept value should never be shrunk to zero. In order to compare features, coefficients are standardized. When removing the intercept value, the coefficients are not standardized anymore and the effects of the change in the coefficients cannot be compared."
   ]
  },
  {
   "cell_type": "markdown",
   "metadata": {},
   "source": [
    "\n",
    "\n",
    "## Bias-variance \n",
    "\n",
    "Show the effect of the regularization on the parameter estimates in terms of bias and variance. For this you can repeat the optimization 100 times using bootstrap and visualise the profile of the Lasso regression coefficient over a grid of the hyperparameter, optionally including the variability as error bars.\n",
    "\n",
    "<p><font color='#770a0a'>Based on the visual analysis of the plot, what are your observation on bias and variance in relation to model complexity? Motivate your answer.</font></p>\n"
   ]
  },
  {
   "cell_type": "code",
   "execution_count": 28,
   "metadata": {},
   "outputs": [
    {
     "name": "stderr",
     "output_type": "stream",
     "text": [
      "C:\\Users\\menno\\anaconda3\\lib\\site-packages\\sklearn\\linear_model\\_coordinate_descent.py:531: ConvergenceWarning: Objective did not converge. You might want to increase the number of iterations. Duality gap: 0.10330274941208195, tolerance: 0.07493374990384616\n",
      "  positive)\n",
      "C:\\Users\\menno\\anaconda3\\lib\\site-packages\\sklearn\\linear_model\\_coordinate_descent.py:531: ConvergenceWarning: Objective did not converge. You might want to increase the number of iterations. Duality gap: 0.22920520266644973, tolerance: 0.06986048990384616\n",
      "  positive)\n",
      "C:\\Users\\menno\\anaconda3\\lib\\site-packages\\sklearn\\linear_model\\_coordinate_descent.py:531: ConvergenceWarning: Objective did not converge. You might want to increase the number of iterations. Duality gap: 0.09087173496990841, tolerance: 0.07173586884615386\n",
      "  positive)\n",
      "C:\\Users\\menno\\anaconda3\\lib\\site-packages\\sklearn\\linear_model\\_coordinate_descent.py:531: ConvergenceWarning: Objective did not converge. You might want to increase the number of iterations. Duality gap: 0.23666936232247426, tolerance: 0.07028123990384616\n",
      "  positive)\n",
      "C:\\Users\\menno\\anaconda3\\lib\\site-packages\\sklearn\\linear_model\\_coordinate_descent.py:531: ConvergenceWarning: Objective did not converge. You might want to increase the number of iterations. Duality gap: 0.4776048982411867, tolerance: 0.06518724615384616\n",
      "  positive)\n",
      "C:\\Users\\menno\\anaconda3\\lib\\site-packages\\sklearn\\linear_model\\_coordinate_descent.py:531: ConvergenceWarning: Objective did not converge. You might want to increase the number of iterations. Duality gap: 0.19686555939050177, tolerance: 0.07365743759615385\n",
      "  positive)\n",
      "C:\\Users\\menno\\anaconda3\\lib\\site-packages\\sklearn\\linear_model\\_coordinate_descent.py:531: ConvergenceWarning: Objective did not converge. You might want to increase the number of iterations. Duality gap: 0.13792644514993846, tolerance: 0.07934595346153846\n",
      "  positive)\n",
      "C:\\Users\\menno\\anaconda3\\lib\\site-packages\\sklearn\\linear_model\\_coordinate_descent.py:531: ConvergenceWarning: Objective did not converge. You might want to increase the number of iterations. Duality gap: 0.09927581349552561, tolerance: 0.06552486884615384\n",
      "  positive)\n",
      "C:\\Users\\menno\\anaconda3\\lib\\site-packages\\sklearn\\linear_model\\_coordinate_descent.py:531: ConvergenceWarning: Objective did not converge. You might want to increase the number of iterations. Duality gap: 0.6441225704641802, tolerance: 0.06607069961538461\n",
      "  positive)\n"
     ]
    },
    {
     "data": {
      "image/png": "[encoded data removed]",
      "text/plain": [
       "<Figure size 576x432 with 1 Axes>"
      ]
     },
     "metadata": {
      "needs_background": "light"
     },
     "output_type": "display_data"
    },
    {
     "data": {
      "image/png": "[encoded data removed]",
      "text/plain": [
       "<Figure size 720x576 with 1 Axes>"
      ]
     },
     "metadata": {
      "needs_background": "light"
     },
     "output_type": "display_data"
    }
   ],
   "source": [
    "\n",
    "from sklearn.pipeline import Pipeline\n",
    "from sklearn.model_selection import GridSearchCV\n",
    "from sklearn.preprocessing import StandardScaler\n",
    "import matplotlib.pyplot as plt\n",
    "import math\n",
    "\n",
    "split = round(len(gene_expression)*0.7)\n",
    "X_train = gene_expression.iloc[:split,:]\n",
    "y_train = drug_response.iloc[:split,:]\n",
    "X_test = gene_expression.iloc[split:,:]\n",
    "y_test = drug_response.iloc[split:,:]\n",
    "\n",
    "\n",
    "\n",
    "from sklearn.metrics import mean_squared_error\n",
    "\n",
    "\n",
    "def bias_variance_estimate(estimator, X_train, y_train, X_test, y_test, bootstrap_rounds = 10):\n",
    "    \n",
    "    preds_test = pd.DataFrame(index = y_test.index)\n",
    "    features =  pd.DataFrame(index = X_train.keys())\n",
    "    for r in range(bootstrap_rounds):\n",
    "        boot = np.random.randint(len(y_train), size = len(y_train))\n",
    "        preds_test[f'Model {r}'] = estimator.fit(X_train.iloc[boot, :], y_train.iloc[boot]).predict(X_test)\n",
    "#         print(estimator.best_estimator_.named_steps['lasso'].coef_)\n",
    "        features[f'Model {r}'] = estimator.named_steps['lasso'].coef_\n",
    "    \n",
    "    mean_pred_test = preds_test.mean(axis = 1)\n",
    "    \n",
    "    # compute and return: mse, squared bias and variance\n",
    "    mean_features = features.mean(axis = 1)\n",
    "    \n",
    "    mse = preds_test.apply(lambda pred_test: mean_squared_error(y_test, pred_test)).mean()\n",
    "\n",
    "    bias_squared = mean_squared_error(y_test, mean_pred_test)\n",
    "\n",
    "    variance = preds_test.apply(lambda pred_test: mean_squared_error(mean_pred_test, pred_test)).mean()\n",
    "    \n",
    "    return mean_features,mse, bias_squared, variance\n",
    "    \n",
    "def plot_features(lam=[],all_features=[]):\n",
    "    plt.figure(figsize=(8, 6))\n",
    "    for i in list(range(len(lam_list))):\n",
    "        \n",
    "        plt.plot(lam_list,all_features[i,:])\n",
    "    plt.xlabel('Lambda')\n",
    "    plt.ylabel('Coefficients')\n",
    "    plt.show()\n",
    "    \n",
    "    \n",
    "def plot_MSE(mse,bias,var,lam):\n",
    "    fig = plt.figure(figsize=(10,8))\n",
    "    plt.errorbar(lam,bias,yerr = var,fmt = 'ro', capsize = 5, markersize = 5, ecolor = 'gray')\n",
    "\n",
    "    plt.xlabel('Lambda')\n",
    "    plt.ylabel('Mean-Squared Error')    \n",
    "    \n",
    "    \n",
    "lam_list = np.linspace(0.01,1,10)\n",
    "all_features = np.zeros((len(X_train.keys()),len(lam_list)))\n",
    "mse_list = []\n",
    "bias_list = []\n",
    "var_list = []\n",
    "\n",
    "for i in list(range(len(lam_list))):\n",
    "    l = lam_list[i]\n",
    "    \n",
    "    steps = [\n",
    "            (\"scaler\", StandardScaler()),\n",
    "            (\"lasso\", Lasso(alpha=l))\n",
    "            ]\n",
    "\n",
    "\n",
    "\n",
    "    pipeline = Pipeline(steps)\n",
    "\n",
    "    mean_features,mse,bias_squared,variance = bias_variance_estimate(pipeline,X_train, y_train, X_test, y_test)\n",
    "    all_features[:,i] = mean_features\n",
    "    mse_list.append(mse)\n",
    "    bias_list.append(bias_squared)\n",
    "    var_list.append(variance)\n",
    "plot_features(lam_list,all_features)\n",
    "plot_MSE(mse_list,bias_list,var_list,lam_list)\n",
    "\n"
   ]
  },
  {
   "cell_type": "markdown",
   "metadata": {},
   "source": [
    "## Logistic regression\n",
    "\n",
    "<p><font color='#770a0a'>Write the expression of the objective function for the penalized logistic regression with $L_1$ and $L_2$ regularisation (as in Elastic net).</font></p>"
   ]
  },
  {
   "cell_type": "markdown",
   "metadata": {},
   "source": [
    "$\\bf{Answer:}$ <br>\n",
    "The objective function for L2 regularization (ridge regression) is given by: <br>\n",
    "$ \\hat{ \\beta}{ridge} = \\underset{\\beta}{\\operatorname{argmin}}\\left\\{ \\sum{i=1}^{N}\\left(y_i-\\beta_0-\\sum_{j=1}^{p}x_{ij}\\beta_j\\right)^2 + \\lambda \\sum_{j=1}^{p}\\beta_j^2 \\right\\} $ <br>\n",
    "$ $ <br> \n",
    "The objective function for L1 regularization (lasso regression) is given by:<br>\n",
    "$ \\hat{ \\beta}{lasso} = \\underset{\\beta}{\\operatorname{argmin}}\\left\\{ \\sum{i=1}^{N}\\left(y_i-\\beta_0-\\sum_{j=1}^{p}x_{ij}\\beta_j\\right)^2 + \\lambda \\sum_{j=1}^{p}|\\beta_j| \\right\\} $ <br>\n",
    "$ $ <br>\n",
    "L1 and L2 regularisation can be combined which gives us the Elastic net, and the expression for the objective function for the elastic net is given by: <br>\n",
    "$ \\hat{ \\beta}{elasticnet} = \\underset{\\beta}{\\operatorname{argmin}}\\left\\{ \\sum{i=1}^{N}\\left(y_i-\\beta_0-\\sum_{j=1}^{p}x_{ij}\\beta_j\\right)^2 + \\lambda \\sum_{j=1}^{p}\\left( \\alpha \\beta_j^2 + \\left( 1-\\alpha \\right) |\\beta_j| \\right) \\right\\} $ <br>"
   ]
  }
 ],
 "metadata": {
  "kernelspec": {
   "display_name": "Python 3",
   "language": "python",
   "name": "python3"
  },
  "language_info": {
   "codemirror_mode": {
    "name": "ipython",
    "version": 3
   },
   "file_extension": ".py",
   "mimetype": "text/x-python",
   "name": "python",
   "nbconvert_exporter": "python",
   "pygments_lexer": "ipython3",
   "version": "3.7.7"
  }
 },
 "nbformat": 4,
 "nbformat_minor": 2
}
