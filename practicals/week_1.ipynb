{
 "cells": [
  {
   "cell_type": "markdown",
   "metadata": {},
   "source": [
    "# Getting started with the practicals\n",
    "\n",
    "***These notebooks are best viewed in Jupyter. GitHub might not display all content of the notebook properly.***\n",
    "\n",
    "## Goal of the practical exercises\n",
    "\n",
    "The exercises have two goals:\n",
    "\n",
    "1. Give you the opportunity to obtain 'hands-on' experience in implementing, training and evaluation machine learning models in Python. This experience will also help you better understand the theory covered during the lectures. \n",
    "\n",
    "2. Occasionally demonstrate some 'exam-style' questions that you can use as a reference when studying for the exam. Note however that the example questions are (as the name suggests) only examples and do not constitute a complete and sufficient list of 'things that you have to learn for the exam'. You can recognize example questions as (parts of) exercises by <font color=\"#770a0a\">this font color</font>.\n",
    "\n",
    "For each set of exercises (one Python notebook such as this one $==$ one set of exercises) you have to submit deliverables that will then be graded and constitute 25% of the final grade. Thus, the work that you do during the practicals has double contribution towards the final grade: as 25% direct contribution and as a preparation for the exam that will define the other 65% of the grade.\n",
    "\n",
    "## Deliverables\n",
    "\n",
    "For each set of exercises, you have to submit:\n",
    "1. Python functions and/or classes (`.py` files) that implement basic functionalities (e.g. a $k$-NN classifier) and \n",
    "2. A *single* Python notebook that contains the experiments, visualization and answer to the questions and math problems. *Do not submit your answers as Word or PDF documents (they will not be graded)*. The submitted code and notebook should run without errors and be able to fully reproduce the reported results.\n",
    "\n",
    "We recommend that you clone the provided notebooks (such as this one) and write your code in them. The following rubric will be used when grading the practical work:\n",
    "\n",
    "Component  | Insufficient | Satisfactory | Excellent\n",
    "--- | --- | --- | ---\n",
    "**Code** | Missing or incomplete code structure, runs with errors, lacks documentation | Self-contained, does not result in errors, contains some documentation, can be easily used to reproduce the reported results | User-friendly, well-structured (good separation of general functionality and experiments, i.e. between `.py` files and the Pyhthon notebook), detailed documentation, optimized for speed, <s>use of a version control system (such as GitHub)</s>\n",
    "**Answers to questions** | Incorrect, does not convey understanding of the material, appears to be copied from another source | Correct, conveys good understanding of the material, description in own words | Correct, conveys excellent level of understanding, makes connections between topics\n",
    "\n",
    "## A word on notation\n",
    "\n",
    "When we refer to Python variables, we will use a monospace font. For example, `X` is a Python variable that contains the data matrix. When we refer to mathematical variables, we will use the de-facto standard notation: $a$ or $\\lambda$ is a scalar variable, $\\boldsymbol{\\mathrm{w}}$ is a vector and $\\boldsymbol{\\mathrm{X}}$ is a matrix (e.g. a data matrix from the example above). You should use the same notation when writing your answers and solutions.\n",
    "\n",
    "# Two simple machine learning models\n",
    "\n",
    "## Preliminaries\n",
    "\n",
    "Throughout the practical curriculum of this course, we will use the Python programming language and its ecosystem of libraries for scientific computing (such as `numpy`, `scipy`, `matplotlib`, `scikit-learn` etc). The practicals for the deep learning part of the course will use the `keras` deep learning framework. If you are not sufficiently familiar with this programming language and/or the listed libraries and packages, you are strongly advised to go over the corresponding tutorials from the ['Essential skills'](https://github.com/tueimage/essential-skills) module (the `scikit-learn` library is not covered by the tutorial, however, an extensive documentation is available [here](https://scikit-learn.org/stable/documentation.html).\n",
    "\n",
    "In this first set of exercises, we will use two toy datasets that ship together with `scikit-learn`. \n",
    "\n",
    "The first dataset is named `diabetes` and contains 442 patients described with 10 features: age, sex, body mass index, average blood pressure, and six blood serum measurements. The target variable is a continuous quantitative measure of the disease (diabetes) progression one year after the baseline measurements were recorded. More information is available [here](https://github.com/scikit-learn/scikit-learn/blob/master/sklearn/datasets/descr/diabetes.rst) and [here](https://www4.stat.ncsu.edu/~boos/var.select/diabetes.html).\n",
    "\n",
    "The second dataset is named `breast_cancer` and is a copy of the UCI ML Breast Cancer Wisconsin (Diagnostic) datasets (more infortmation is available [here](https://github.com/scikit-learn/scikit-learn/blob/master/sklearn/datasets/descr/breast_cancer.rst) and [here](https://archive.ics.uci.edu/ml/datasets/Breast+Cancer+Wisconsin+(Diagnostic)). The datasets contains of 569 instances represented with 30 features that are computed from a images of a fine needle aspirate of a breast mass. The features describe characteristics of the cell nuclei present in the image. Each instance is associated with a binary target variable ('malignant' or 'benign'). \n",
    "\n",
    "You can load the two datasets in the following way:"
   ]
  },
  {
   "cell_type": "code",
   "execution_count": 1,
   "metadata": {},
   "outputs": [],
   "source": [
    "import numpy as np\n",
    "from sklearn.datasets import load_diabetes, load_breast_cancer\n",
    "import copy\n",
    "import matplotlib.pyplot as plt\n",
    "\n",
    "diabetes = load_diabetes()\n",
    "\n",
    "breast_cancer = load_breast_cancer()"
   ]
  },
  {
   "cell_type": "code",
   "execution_count": 2,
   "metadata": {},
   "outputs": [
    {
     "name": "stdout",
     "output_type": "stream",
     "text": [
      "Size of breast_cancer[data] is (569, 30)\n",
      "Size of diabetes[data] is (442, 10)\n"
     ]
    }
   ],
   "source": [
    "print(f\"Size of breast_cancer[data] is ({np.size(breast_cancer['data'],0)}, {np.size(breast_cancer['data'],1)})\")\n",
    "\n",
    "print(f\"Size of diabetes[data] is ({np.size(diabetes['data'],0)}, {np.size(diabetes['data'],1)})\")\n"
   ]
  },
  {
   "cell_type": "markdown",
   "metadata": {},
   "source": [
    "In the majority of the exercises in this course, we will use higher-level libraries and packages such as `scikit-learn` and `keras` to implement, train and evaluate machine learning models. However, the goal of this first set of exercises is to illustrate basic mathematical tools and machine learning concepts. Because of this, we will impose a restriction of only using basic `numpy` functionality. Furthermore, you should as much as possible restrict the use of for-loops (e.g. use a vector-to-matrix product instead of a for loop when appropriate).\n",
    "\n",
    "If `X` is a 2D data matrix, we will use the convention that the rows of the matrix contain the samples (or instances) and the columns contain the features (inputs to the model). That means that a data matrix with a shape `(122, 13)` represents a dataset with 122 samples, each represented with 13 features. Similarly, if `Y` is a 2D matrix containing the targets, the rows correspond to the samples and the columns to the different targets (outputs of the model). Thus, if the shape of `Y` is `(122, 3)` that means that there are 122 samples and each sample is has 3 targets (note that in the majority of the examples we will only have a single target and thus the number of columns of `Y` will be 1).\n",
    "\n",
    "You can obtain the data and target matrices from the two datasets in the following way:"
   ]
  },
  {
   "cell_type": "code",
   "execution_count": 3,
   "metadata": {},
   "outputs": [
    {
     "name": "stdout",
     "output_type": "stream",
     "text": [
      "(442, 10)\n",
      "(442, 1)\n"
     ]
    }
   ],
   "source": [
    "X = diabetes.data\n",
    "Y = diabetes.target[:, np.newaxis]\n",
    "\n",
    "print(X.shape)\n",
    "print(Y.shape)"
   ]
  },
  {
   "cell_type": "markdown",
   "metadata": {},
   "source": [
    "If you want to only use a subset of the available features, you can obtain a reduced data matrix in the following way:"
   ]
  },
  {
   "cell_type": "code",
   "execution_count": 4,
   "metadata": {
    "scrolled": true
   },
   "outputs": [
    {
     "name": "stdout",
     "output_type": "stream",
     "text": [
      "(442, 1)\n",
      "(442, 2)\n"
     ]
    }
   ],
   "source": [
    "# use only the fourth feature\n",
    "X = diabetes.data[:, np.newaxis, 3]\n",
    "print(X.shape)\n",
    "\n",
    "# use the third, and tenth features\n",
    "X = diabetes.data[:, (3,9)]\n",
    "print(X.shape)"
   ]
  },
  {
   "cell_type": "markdown",
   "metadata": {},
   "source": [
    "***Question***: Why we need to use the `np.newaxis` expression in the examples above? \n",
    "\n",
    "Note that in all your experiments in the exercises, you should use and independent training and testing sets. You can split the dataset into a training and testing subsets in the following way:"
   ]
  },
  {
   "cell_type": "code",
   "execution_count": 5,
   "metadata": {},
   "outputs": [],
   "source": [
    "# use the fourth feature\n",
    "# use the first 300 training samples for training, and the rest for testing\n",
    "# X_train = diabetes.data[:300, np.newaxis, 3]\n",
    "# y_train = diabetes.target[:300, np.newaxis]\n",
    "# X_test = diabetes.data[300:, np.newaxis, 3]\n",
    "# y_test = diabetes.target[300:, np.newaxis]\n",
    "# print(X_train.shape)\n",
    "# print(y_train.shape)\n",
    "# print(X_test.shape)\n",
    "# print(y_test.shape)"
   ]
  },
  {
   "cell_type": "markdown",
   "metadata": {},
   "source": [
    "## Exercises\n",
    "\n",
    "### Linear regression\n",
    "\n",
    "Implement training and evaluation of a linear regression model on the diabetes dataset using only matrix multiplication, inversion and transpose operations. Report the mean squared error of the model.\n",
    "\n",
    "To get you started we have implemented the first part of this exercise (fitting of the model) as an example."
   ]
  },
  {
   "cell_type": "code",
   "execution_count": 6,
   "metadata": {},
   "outputs": [
    {
     "name": "stdout",
     "output_type": "stream",
     "text": [
      "2794.569014500737\n"
     ]
    }
   ],
   "source": [
    "# add subfolder that contains all the function implementations\n",
    "# to the system path so we can import them\n",
    "import sys\n",
    "sys.path.append('code/')\n",
    "\n",
    "# the actual implementation is in linear_regression.py,\n",
    "# here we will just use it to fit a model\n",
    "from linear_regression import *\n",
    "\n",
    "# load the dataset\n",
    "# same as before, but now we use all features\n",
    "X_train_db = diabetes.data[:300, :]\n",
    "y_train_db = diabetes.target[:300, np.newaxis]\n",
    "X_test_db = diabetes.data[300:, :]\n",
    "y_test_db = diabetes.target[300:, np.newaxis]\n",
    "\n",
    "beta = lsq(X_train_db, y_train_db)\n",
    "\n",
    "\n",
    "#Mean Squared Error (MSE)\n",
    "#MSEtest=||ytestpred - ytest||^^2\n",
    "#MSEtest=||Xtest w - ytest||^^2\n",
    "X_test_add = np.concatenate((np.ones((X_test_db.shape[0],1)),X_test_db),axis = 1)\n",
    "y_pred= np.dot(X_test_add,beta)\n",
    "MSE = np.square(y_pred - y_test_db).mean()\n",
    "print(MSE)"
   ]
  },
  {
   "cell_type": "code",
   "execution_count": null,
   "metadata": {},
   "outputs": [],
   "source": []
  },
  {
   "cell_type": "markdown",
   "metadata": {},
   "source": [
    "### Weighted linear regression\n",
    "\n",
    "Assume that in the dataset that you use to train a linear regression model, there are identical versions of some samples. This problem can be reformulated to a weighted linear regression problem where the matrices $\\boldsymbol{\\mathrm{X}}$ and $\\boldsymbol{\\mathrm{Y}}$ (or the vector $\\boldsymbol{\\mathrm{y}}$ if there is only a single target/output variable) contain only the unique data samples, and a vector $\\boldsymbol{\\mathrm{d}}$ is introduced that gives more weight to samples that appear multiple times in the original dataset (for example, the sample that appears 3 times has a corresponding weight of 3). \n",
    "\n",
    "<p><font color='#770a0a'>Derive the expression for the least-squares solution of a weighted linear regression model (note that in addition to the matrices $\\boldsymbol{\\mathrm{X}}$ and $\\boldsymbol{\\mathrm{Y}}$, the solution should include a vector of weights $\\boldsymbol{\\mathrm{d}}$).</font></p>"
   ]
  },
  {
   "cell_type": "markdown",
   "metadata": {},
   "source": [
    "### $k$-NN classification\n",
    "\n",
    "Implement a $k$-Nearest neighbors classifier from scratch in Python using only basic matrix operations with `numpy` and `scipy`. Train and evaluate the classifier on the breast cancer dataset, using all features. Show the performance of the classifier for different values of $k$ (plot the results in a graph). Note that for optimal results, you should normalize the features (e.g. to the $[0, 1]$ range or to have a zero mean and unit standard deviation)."
   ]
  },
  {
   "cell_type": "code",
   "execution_count": 7,
   "metadata": {},
   "outputs": [],
   "source": [
    "X_train_bc = breast_cancer.data[:400,:]\n",
    "y_train_bc = breast_cancer.target[:400, np.newaxis]\n",
    "X_test_bc = breast_cancer.data[400:,:]\n",
    "y_test_bc = breast_cancer.target[400:, np.newaxis]\n"
   ]
  },
  {
   "cell_type": "code",
   "execution_count": 8,
   "metadata": {},
   "outputs": [
    {
     "name": "stdout",
     "output_type": "stream",
     "text": [
      " after normalization, the mean of the first feature is  14.321222500000001 and the std is 3.573789147808492.\n"
     ]
    }
   ],
   "source": [
    "X = np.linalg.norm(X_train_bc)\n",
    "print(f' after normalization, the mean of the first feature is  {np.mean(X_train_bc[:,0])} and the std is {np.std(X_train_bc[:,0])}.')\n"
   ]
  },
  {
   "cell_type": "code",
   "execution_count": 9,
   "metadata": {},
   "outputs": [
    {
     "name": "stdout",
     "output_type": "stream",
     "text": [
      " before normalization, the mean of the first feature is  14.321222500000001 and the std is 3.573789147808492.\n",
      " after normalization, the mean of the first feature is  -2.9309887850104134e-16 and the std is 1.0.\n"
     ]
    }
   ],
   "source": [
    "def normalize_data(data):\n",
    "    \n",
    "    '''Objective: normalize columns of a pandas dataset to set the mean of the values \n",
    "    to 0 and the std to 1. This has been done using the created functions average() and std()\n",
    "    \n",
    "    Input:\n",
    "    data: dataset to be normalized\n",
    "        First column of dataset is a list with genenames, and will not be normalized\n",
    "        The rest of the columns will be normalized\n",
    "        \n",
    "    Output:\n",
    "    data: normalized data\n",
    "    '''\n",
    "    for i in range(np.size(data,1)):\n",
    "#         key = data_keys[i]\n",
    "        column = data[:,i]\n",
    "        mean_column = np.mean(column)\n",
    "        std_column = np.std(column)\n",
    "\n",
    "    #     # Subtract mean\n",
    "        column = column - mean_column\n",
    "\n",
    "    #     # Divide by standard deviation\n",
    "        column = column/std_column\n",
    "        data[:,i] = column\n",
    "    return data\n",
    "\n",
    "\n",
    "print(f' before normalization, the mean of the first feature is  {np.mean(X_train_bc[:,0])} and the std is {np.std(X_train_bc[:,0])}.')\n",
    "\n",
    "X_train_bc = normalize_data(X_train_bc)\n",
    "X_test_bc = normalize_data(X_test_bc)\n",
    "\n",
    "print(f' after normalization, the mean of the first feature is  {np.mean(X_train_bc[:,0])} and the std is {np.std(X_train_bc[:,0])}.')\n",
    "\n"
   ]
  },
  {
   "cell_type": "code",
   "execution_count": 10,
   "metadata": {},
   "outputs": [],
   "source": [
    "def calc_distance(method = 'squared-Euclidean',list1=[],list2=[]):\n",
    "    '''function that calculates the distance between two lists\n",
    "    \n",
    "    Input:\n",
    "    method: method of distance calculation. Can either be squared-Euclidean or Euclidean.\n",
    "    list1 and list2: lists of values in all dimension, of which the distance has to calculated for\n",
    "                    list1 and list2 should be of the same length\n",
    "                    , otherwise you will get an error.'''\n",
    "    if len(list1)!= len(list2):\n",
    "        raise Exception(\"list1 and list2 in calc_distances(method,list1,list2) are not of the same length\")\n",
    "    tot_dist = 0\n",
    "    for n in range(len(list1)):\n",
    "        \n",
    "        dist = (list1[n]-list2[n])**2\n",
    "        tot_dist+=dist\n",
    "    tot_dist = tot_dist**0.5\n",
    "    return tot_dist\n",
    "\n",
    "\n"
   ]
  },
  {
   "cell_type": "code",
   "execution_count": 15,
   "metadata": {},
   "outputs": [
    {
     "data": {
      "image/png": "[encoded data removed]",
      "text/plain": [
       "<Figure size 432x288 with 1 Axes>"
      ]
     },
     "metadata": {
      "needs_background": "light"
     },
     "output_type": "display_data"
    }
   ],
   "source": [
    "def k_nn_classification(classification = 1, X_train=[],y_train = [],X_test=[],K=5):\n",
    "    '''Function to perform k-nn classification of all cells in the test data.\n",
    "    \n",
    "    '''\n",
    "\n",
    "    \n",
    "    test_output = np.zeros((X_test.shape[0],1)) #output for all test data\n",
    "    \n",
    "\n",
    "    for y in range(np.size(X_test,0)):\n",
    "        distances = []\n",
    "        cells = copy.deepcopy(X_train)\n",
    "        for cell in range(np.size(cells,0)):     #calculate distance to all cells in train data\n",
    "            distance = int(calc_distance('squared-Euclidean',cells[cell,:],X_test[y]))\n",
    "            distances.append(distance)\n",
    "\n",
    "\n",
    "        i = 1\n",
    "\n",
    "        y_train_copy = copy.deepcopy(y_train)\n",
    "        targets = 0 #sum of targets of all K nearest neighbours\n",
    "        while i<=K:\n",
    "            index_min = distances.index(min(distances))\n",
    "            target = y_train_copy[index_min]\n",
    "            del distances[index_min] \n",
    "            y_train_copy = np.delete(y_train_copy,index_min)\n",
    "            targets+= target\n",
    "            i+=1\n",
    "            if i>K:\n",
    "                if classification ==1:\n",
    "                    test_output[y] = round(int(targets)/K) #target for specific test cell\n",
    "                else:\n",
    "                    test_output[y] = int(targets)/K\n",
    "                break\n",
    "            \n",
    "                \n",
    "\n",
    "            \n",
    "\n",
    "    return test_output\n",
    "\n",
    "\n",
    "    \n",
    "\n",
    "\n",
    "\n",
    "\n",
    "def plot_different_k_nn_classification(X_train=[],y_train = [],X_test=[],y_test=[],k_list = [3,5,7,9,11,13,15,17,19,21]):\n",
    "    '''Function that performs k-nn for a range of k-values and plots the number of incorrect classified cells per k-value.\n",
    "    \n",
    "    '''\n",
    "    incorrect_list = []\n",
    "\n",
    "    for k in k_list:\n",
    "        test_output = k_nn_classification(1,X_train,y_train,X_test,k)\n",
    "        incorrect = int(sum(abs(test_output-y_test)))\n",
    "        incorrect_list.append(incorrect)\n",
    "    plt.figure()        \n",
    "    plt.plot(k_list,incorrect_list)\n",
    "    plt.xticks(k_list)\n",
    "    plt.yticks(list(range(min(incorrect_list),max(incorrect_list)+1)))\n",
    "    plt.ylabel('number of incorrect classified')\n",
    "    plt.xlabel('value for k')\n",
    "\n",
    "    \n",
    "plot_different_k_nn_classification(X_train = X_train_bc,y_train = y_train_bc,X_test = X_test_bc,y_test = y_test_bc)"
   ]
  },
  {
   "cell_type": "code",
   "execution_count": null,
   "metadata": {},
   "outputs": [],
   "source": []
  },
  {
   "cell_type": "markdown",
   "metadata": {},
   "source": [
    "### $k$-NN regression\n",
    "\n",
    "Modify the $k$-NN implementation to do regression instead of classification. Compare the performance of the linear regression model and the $k$-NN regression model on the diabetes dataset for different values of $k$.."
   ]
  },
  {
   "cell_type": "code",
   "execution_count": null,
   "metadata": {},
   "outputs": [],
   "source": []
  },
  {
   "cell_type": "code",
   "execution_count": 23,
   "metadata": {},
   "outputs": [
    {
     "data": {
      "image/png": "[encoded data removed]",
      "text/plain": [
       "<Figure size 432x288 with 1 Axes>"
      ]
     },
     "metadata": {
      "needs_background": "light"
     },
     "output_type": "display_data"
    }
   ],
   "source": [
    "def plot_different_k_nn_regression(X_train=[],y_train = [],X_test=[],y_test=[],k_list = [3,5,7,9,11,13,15,17,19,21]):\n",
    "    '''Function that performs k-nn for a range of k-values and plots the number of incorrect classified cells per k-value.\n",
    "    \n",
    "    '''\n",
    "    MSE_list = []\n",
    "\n",
    "    for k in k_list:\n",
    "        test_output = k_nn_classification(0,X_train,y_train,X_test,k)\n",
    "        MSE = np.square(test_output - y_test).mean()\n",
    "        MSE_list.append(MSE)\n",
    "        \n",
    "        \n",
    "\n",
    "#         incorrect = int(sum(abs(test_output-y_test)))\n",
    "#         incorrect_list.append(incorrect)\n",
    "    plt.figure()        \n",
    "    plt.plot(k_list,MSE_list)\n",
    "    plt.xticks(k_list)\n",
    "#     plt.yticks(list(range(min(incorrect_list),max(incorrect_list)+1)))\n",
    "    plt.ylabel('MSE value')\n",
    "    plt.xlabel('value for k')\n",
    "    \n",
    "X_train_db = normalize_data(X_train_db)\n",
    "X_test_db = normalize_data(X_test_db)\n",
    "plot_different_k_nn_regression(X_train = X_train_db,y_train = y_train_db,X_test=X_test_db,y_test=y_test_db,k_list = [3,5,7,9,11,13,15,17,19,21,25,31,35])\n",
    "\n",
    "\n"
   ]
  },
  {
   "cell_type": "markdown",
   "metadata": {},
   "source": [
    "### Class-conditional probability\n",
    "\n",
    "Compute and visualize the class-conditional probability (conditional probability where the class label is the conditional variable, i.e. $P(X = x \\mid Y = y_i)$ for all features in the breast cancer dataset. Assume a Gaussian distribution.\n",
    "\n",
    "<p><font color='#770a0a'>Based on visual analysis of the plots, which individual feature can best discriminate between the two classes? Motivate your answer.</font></p>\n",
    "\n"
   ]
  },
  {
   "cell_type": "code",
   "execution_count": null,
   "metadata": {},
   "outputs": [],
   "source": []
  }
 ],
 "metadata": {
  "kernelspec": {
   "display_name": "Python 3",
   "language": "python",
   "name": "python3"
  },
  "language_info": {
   "codemirror_mode": {
    "name": "ipython",
    "version": 3
   },
   "file_extension": ".py",
   "mimetype": "text/x-python",
   "name": "python",
   "nbconvert_exporter": "python",
   "pygments_lexer": "ipython3",
   "version": "3.7.7"
  }
 },
 "nbformat": 4,
 "nbformat_minor": 2
}
