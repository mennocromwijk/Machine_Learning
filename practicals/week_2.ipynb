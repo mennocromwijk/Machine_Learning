{
 "cells": [
  {
   "cell_type": "markdown",
   "metadata": {},
   "source": [
    "# Under- and overfitting, model selection\n",
    "\n",
    "## Preliminaries\n",
    "\n",
    "In the first set of exercises you had to implement the training and evaluation of the linear regression and $k$-NN methods from scratch in order to practice your `numpy` skills. From this set of exercises onward, you can use the implementations provided in `scikit-learn` or other higher-level libraries. We start this set of exercises by demonstrating some of the features of `scikit-learn`.\n",
    "\n",
    "For example, implementation of linear regression model fitting with an analytical solution for the parameters is provided by the class `sklearn.linar_model.LinearRegression`. You can train a linear regression model in the following way:"
   ]
  },
  {
   "cell_type": "code",
   "execution_count": 1,
   "metadata": {},
   "outputs": [
    {
     "data": {
      "text/plain": [
       "LinearRegression(copy_X=True, fit_intercept=True, n_jobs=None, normalize=False)"
      ]
     },
     "execution_count": 1,
     "metadata": {},
     "output_type": "execute_result"
    }
   ],
   "source": [
    "import numpy as np\n",
    "from sklearn import datasets, linear_model\n",
    "\n",
    "# load the diabetes dataset\n",
    "diabetes = datasets.load_diabetes()\n",
    "\n",
    "# use only one feature\n",
    "X = diabetes.data[:, np.newaxis, 2]\n",
    "y = diabetes.target\n",
    "\n",
    "# split the data into training/testing sets\n",
    "X_train = X[:-20]\n",
    "X_test = X[-20:]\n",
    "\n",
    "# split the targets into training/testing sets\n",
    "y_train = y[:-20]\n",
    "y_test = y[-20:]\n",
    "\n",
    "# create linear regression object\n",
    "model = linear_model.LinearRegression()\n",
    "\n",
    "# train the model using the training dataset\n",
    "model.fit(X_train, y_train)"
   ]
  },
  {
   "cell_type": "markdown",
   "metadata": {},
   "source": [
    "Let's visualize the training dataset and the learned regression model."
   ]
  },
  {
   "cell_type": "code",
   "execution_count": 2,
   "metadata": {},
   "outputs": [
    {
     "data": {
      "image/png": "[encoded data removed]",
      "text/plain": [
       "<Figure size 432x288 with 1 Axes>"
      ]
     },
     "metadata": {
      "needs_background": "light"
     },
     "output_type": "display_data"
    }
   ],
   "source": [
    "%matplotlib inline\n",
    "import matplotlib.pyplot as plt\n",
    "\n",
    "fig = plt.figure()\n",
    "plt.plot(X_train, y_train, 'r.', markersize=12)\n",
    "X_edge = np.array([np.min(X_train, 0), np.max(X_train, 0)])\n",
    "plt.plot(X_edge, model.predict(X_edge), 'b-')\n",
    "plt.legend(('Data', 'Linear regression'), loc='lower right')\n",
    "plt.title('Linear regression')\n",
    "plt.xlabel('$x$')\n",
    "plt.ylabel('$y$')\n",
    "plt.show()"
   ]
  },
  {
   "cell_type": "markdown",
   "metadata": {},
   "source": [
    "Once trained, the model can be used to make predictions on the test data:"
   ]
  },
  {
   "cell_type": "code",
   "execution_count": 3,
   "metadata": {},
   "outputs": [],
   "source": [
    "# Make predictions using the testing dataset\n",
    "prediction = model.predict(X_test)"
   ]
  },
  {
   "cell_type": "markdown",
   "metadata": {},
   "source": [
    "The next step (not shown here) is to evaluate the performance of the trained model.\n",
    "\n",
    "Note that the `scikit-learn` interface works by first initializing an object from the class that implements the machine learning model (linear regression in this case) and then fitting the initialized model using the data in the training set. Finally, the trained (fitted) model can be used to make predictions on unseen data. In fact, all models implemented in this library follow the same *initialize-fit-predict* programming interface. For example, a $k$-NN classifier can be trained in the following way:"
   ]
  },
  {
   "cell_type": "code",
   "execution_count": 4,
   "metadata": {},
   "outputs": [],
   "source": [
    "from sklearn.model_selection import train_test_split\n",
    "from sklearn import datasets, neighbors\n",
    "\n",
    "breast_cancer = datasets.load_breast_cancer()\n",
    "\n",
    "X = breast_cancer.data\n",
    "y = breast_cancer.target\n",
    "\n",
    "# make use of the train_test_split() utility function instead\n",
    "# of manually dividing the data\n",
    "X_train, X_test, y_train, y_test = train_test_split(X, y, stratify=y, random_state=40)\n",
    "# initialize a 3-NN classifier\n",
    "model = neighbors.KNeighborsClassifier(n_neighbors=3)\n",
    "\n",
    "# train the model using the training dataset\n",
    "model.fit(X_train, y_train)\n",
    "\n",
    "# make predictions using the testing dataset\n",
    "prediction = model.predict(X_test)"
   ]
  },
  {
   "cell_type": "markdown",
   "metadata": {},
   "source": [
    "Note that the features in the breast cancer dataset have different scales (some have on average very small absolute values, and some very large), which means that the distance metric used by $k$-NN will me dominated by the features with large values. You can use any of the number of feature transformation methods implemented in `scikit-learn` to scale the features. For example, you can use the `sklearn.preprocessing.StandardScaler` method to transform all features to a have a zero mean and unit variance:"
   ]
  },
  {
   "cell_type": "code",
   "execution_count": 5,
   "metadata": {},
   "outputs": [],
   "source": [
    "from sklearn.preprocessing import StandardScaler\n",
    "\n",
    "scaler = StandardScaler()\n",
    "scaler.fit(X_train)\n",
    "\n",
    "X_train_scaled = scaler.transform(X_train)"
   ]
  },
  {
   "cell_type": "markdown",
   "metadata": {},
   "source": [
    "The scaler has its own parameters which are the means and standard deviations of the features estimated from the training set. If you train a model with the scaled features, you will have to remember to also apply the scaling transformation every time you make a prediction on new unseen and unscaled data. This is somewhat prone to error. One option for making the code more robust is to create a processing pipeline that includes the scaling and $k$-NN models in a sequence:"
   ]
  },
  {
   "cell_type": "code",
   "execution_count": 6,
   "metadata": {},
   "outputs": [],
   "source": [
    "from sklearn.pipeline import Pipeline\n",
    "\n",
    "knn = neighbors.KNeighborsClassifier(n_neighbors=3)\n",
    "\n",
    "model = Pipeline([\n",
    "                 (\"scaler\", scaler),\n",
    "                 (\"knn\", knn)\n",
    "                ])\n",
    "\n",
    "# train the model using the training dataset\n",
    "model.fit(X_train, y_train)\n",
    "\n",
    "# make predictions using the testing dataset\n",
    "prediction = model.predict(X_test)\n"
   ]
  },
  {
   "cell_type": "markdown",
   "metadata": {},
   "source": [
    "If you are curious, more information about the design of the `scikit-learn` application programming interface (API) can be found [in this paper](https://arxiv.org/pdf/1309.0238.pdf). "
   ]
  },
  {
   "cell_type": "markdown",
   "metadata": {},
   "source": [
    "## Exercises\n",
    "\n",
    "### Bias-variance decomposition\n",
    "\n",
    "Show that the mean squared error of the estimate of a parameter can be decomposed into an expression that includes both the bias and variance (Eq. 5.53-5.54 in \"Deep learning\" by Goodfellow et al.). "
   ]
  },
  {
   "cell_type": "markdown",
   "metadata": {},
   "source": [
    "$\\bf{Answer:}$ <br>\n",
    "$ MSE = \\mathbb{E}[(\\theta{_m} − \\theta)^2]$ (5.53) <br>\n",
    "$= Bias(\\theta_m)^2+ Var(\\theta_m)$ (5.54) <br> \n",
    "given the expressions: $Bias(\\theta_m)= \\mathbb{E}[\\theta{_m}] - \\theta$ and $Var(\\theta_m) = \\mathbb{E}[(\\theta{_m} - \\mathbb{E}[{\\theta{_m}}])^2]$ <br>\n",
    "\n",
    "$ MSE = \\mathbb{E}[(\\theta{_m} − \\theta)^2]$ <br>\n",
    "$ = \\mathbb{E}[(\\theta_m -\\mathbb{E}[\\theta_m] + \\mathbb{E}[\\theta_m] - \\theta )^2] $ <br>\n",
    "$=\\mathbb{E}[ (\\theta_m-\\mathbb{E}[\\theta_m])^2 + (\\mathbb{E}[\\theta_m]-\\theta)^2 + 2(\\theta_m-\\mathbb{E}[\\theta_m])(\\mathbb{E}[\\theta_m]-\\theta)]$ <br>\n",
    "$=\\mathbb{E}[ (\\theta_m-\\mathbb{E}[\\theta_m])^2] + \\mathbb{E}[(\\mathbb{E}[\\theta_m]-\\theta)^2] + \\mathbb{E}[2(\\theta_m-\\mathbb{E}[\\theta_m])(\\mathbb{E}[\\theta_m]-\\theta)]$\n",
    "\n",
    "The first part of the equation can be substituted by the expression of the variance. Secondly, constants can be taken out of the $\\mathbb{E}$-operator. Given that $\\mathbb{E}[\\theta_m]-\\theta$ which is the bias of the estimator $\\theta_m$ is constant, the equation simplifies in:\n",
    "\n",
    "$=Var(\\theta_m) + \\mathbb{E}[(\\mathbb{E}[\\theta_m]-\\theta)^2] + 2(\\mathbb{E}[\\theta_m]-\\theta)\\mathbb{E}[(\\theta_m-\\mathbb{E}[\\theta_m])]$\n",
    "\n",
    "Since the outcome of an estimator is a constant, and the outcome of an estimator with constant input is the constant itself, the following term results in zero. $\\mathbb{E}[(\\theta_m-\\mathbb{E}[\\theta_m])=\\mathbb{E}[\\theta_m]-\\mathbb{E}[\\theta_m]=0$\n",
    "\n",
    "The MSE equation results in:\n",
    "$MSE=Var(\\theta_m)+ (\\mathbb{E}[\\theta_m]-\\theta)^2 $ <br>\n",
    "$=Var(\\theta_m)+ Bias(\\theta_m)^2$\n"
   ]
  },
  {
   "cell_type": "markdown",
   "metadata": {},
   "source": [
    "### Polynomial regression\n",
    "\n",
    "For this exercise we will be using generated data to better show the effects of the different polynomial orders.\n",
    "The data is created using the make_polynomial_regression function."
   ]
  },
  {
   "cell_type": "code",
   "execution_count": 7,
   "metadata": {},
   "outputs": [
    {
     "data": {
      "text/plain": [
       "[<matplotlib.lines.Line2D at 0x2788b6cb9b0>]"
      ]
     },
     "execution_count": 7,
     "metadata": {},
     "output_type": "execute_result"
    },
    {
     "data": {
      "image/png": "[encoded data removed]",
      "text/plain": [
       "<Figure size 432x288 with 1 Axes>"
      ]
     },
     "metadata": {
      "needs_background": "light"
     },
     "output_type": "display_data"
    }
   ],
   "source": [
    "%matplotlib inline\n",
    "\n",
    "def generate_dataset(n=100, degree=1, noise=1, factors=None):\n",
    "    # Generates a dataset by adding random noise to a randomly\n",
    "    # generated polynomial function.\n",
    "    \n",
    "    x = np.random.uniform(low=-1, high=1, size=n)\n",
    "    \n",
    "    factors = np.random.uniform(0, 10, degree+1)\n",
    "    \n",
    "    y = np.zeros(x.shape)\n",
    "    \n",
    "    for idx in range(degree+1):\n",
    "        y += factors[idx] * (x ** idx)\n",
    "\n",
    "    # add noise\n",
    "    y += np.random.normal(-noise, noise, n)\n",
    "    \n",
    "    return x, y\n",
    "\n",
    "# load generated data\n",
    "np.random.seed(0)\n",
    "\n",
    "X, y = generate_dataset(n=100, degree=4, noise=1.5)\n",
    "\n",
    "plt.plot(X, y, 'r.', markersize=12)\n"
   ]
  },
  {
   "cell_type": "markdown",
   "metadata": {},
   "source": [
    "Implement polynomial regression using the `sklearn.preprocessing.PolynomialFeatures` transformation. Using the `sklearn.grid_search.GridSearchCV` class, perform a grid search of the polynomial order hyperparameter space with cross-validation and report the performance on an independent test set.\n",
    "\n",
    "Plot a learning curve that show the validation accuracy as a function of the polynomial order. \n",
    "\n",
    "<p><font color='#770a0a'>Which models have a high bias, and which models have high variance? Motivate your answer.</font><p>\n",
    "    \n",
    "Repeat this experiment, this time using the diabetes dataset instead of the generated data."
   ]
  },
  {
   "cell_type": "code",
   "execution_count": 8,
   "metadata": {
    "scrolled": true
   },
   "outputs": [
    {
     "name": "stdout",
     "output_type": "stream",
     "text": [
      "[9 8 6 7 4 2 3 1 5]\n"
     ]
    },
    {
     "data": {
      "text/plain": [
       "<Figure size 432x288 with 0 Axes>"
      ]
     },
     "metadata": {},
     "output_type": "display_data"
    },
    {
     "data": {
      "image/png": "[encoded data removed]",
      "text/plain": [
       "<Figure size 432x288 with 1 Axes>"
      ]
     },
     "metadata": {
      "needs_background": "light"
     },
     "output_type": "display_data"
    },
    {
     "data": {
      "image/png": "[encoded data removed]",
      "text/plain": [
       "<Figure size 432x288 with 1 Axes>"
      ]
     },
     "metadata": {
      "needs_background": "light"
     },
     "output_type": "display_data"
    }
   ],
   "source": [
    "from sklearn.preprocessing import PolynomialFeatures\n",
    "from sklearn.model_selection import GridSearchCV\n",
    "%run week_2_functions\n",
    "\n",
    "X_column =X[:, np.newaxis]\n",
    "\n",
    "\n",
    "# split the data into training/testing sets\n",
    "X_train_gen = X_column[:-20]\n",
    "X_test_gen = X_column[-20:]\n",
    "\n",
    "# split the targets into training/testing sets\n",
    "y_train_gen = y[:-20, np.newaxis]\n",
    "y_test_gen = y[-20:, np.newaxis]\n",
    "    \n",
    "    \n",
    "polynominal_list = list(range(1,10))\n",
    "clf,y_predicted = polynominal_regression(X_train_gen,y_train_gen,X_test_gen,y_test_gen,polynominal_list)\n",
    "\n",
    "plot_score(clf,polynominal_list)\n",
    "\n",
    "\n",
    "fig = plt.figure()\n",
    "plt.plot(X, y, 'r.', markersize=12)\n",
    "\n",
    "order = np.argsort(X_test_gen[:,0])\n",
    "plt.plot(X_test_gen[order], y_predicted[order])\n",
    "    \n",
    "# plt.legend(legends_list)\n",
    "plt.title('Linear regression')\n",
    "plt.xlabel('$x$')\n",
    "plt.ylabel('$y$')\n",
    "plt.show()\n",
    "\n",
    "\n"
   ]
  },
  {
   "cell_type": "code",
   "execution_count": null,
   "metadata": {},
   "outputs": [],
   "source": []
  },
  {
   "cell_type": "markdown",
   "metadata": {},
   "source": [
    "$\\bf{Answer:}$ <br>\n",
    "Here, it can be seen that a 8th order polynominal has the highest mean test score, and is ranked as the the number one polynominal. It can however be seen that the mean test score barely increases after 3 orders. This is thus enough to correctly predict the simulated data. A model with a low number of polynominals, has a higher bias but a lower variance. The model with a lower polynomial order doesn't take all the information from the trainingset into account, therefore the model is simplified. Which leads to a larger difference between the prediciton of the model and the true data. These models have a high bias. \n",
    "\n",
    "A model with a higher polynomial degree pays more attention to the training data and learns its underlying principles. The model performs well on the trainingsdata, however it performs less on unseen data. The model is too complex to predict well on the test data and introduces a high variability. The variance of these kind of models is larger than a simple model."
   ]
  },
  {
   "cell_type": "code",
   "execution_count": 9,
   "metadata": {},
   "outputs": [
    {
     "name": "stderr",
     "output_type": "stream",
     "text": [
      "C:\\Users\\s160518\\AppData\\Local\\Continuum\\anaconda3\\envs\\Machine Learning Course\\lib\\site-packages\\sklearn\\model_selection\\_search.py:814: DeprecationWarning: The default of the `iid` parameter will change from True to False in version 0.22 and will be removed in 0.24. This will change numeric results when test-set sizes are unequal.\n",
      "  DeprecationWarning)\n"
     ]
    },
    {
     "name": "stdout",
     "output_type": "stream",
     "text": [
      "[1 3 2 4]\n"
     ]
    },
    {
     "data": {
      "image/png": "[encoded data removed]",
      "text/plain": [
       "<Figure size 432x288 with 1 Axes>"
      ]
     },
     "metadata": {
      "needs_background": "light"
     },
     "output_type": "display_data"
    }
   ],
   "source": [
    "polynominal_list=[1,2,3,4]\n",
    "\n",
    "# load the diabetes dataset\n",
    "diabetes = datasets.load_diabetes()\n",
    "\n",
    "# use only one feature\n",
    "X = diabetes.data[:, np.newaxis, 2]\n",
    "y = diabetes.target\n",
    "\n",
    "# split the data into training/testing sets\n",
    "X_train = X[:-20]\n",
    "X_test = X[-20:]\n",
    "\n",
    "# split the targets into training/testing sets\n",
    "y_train = y[:-20]\n",
    "y_test = y[-20:]\n",
    "\n",
    "\n",
    "clf, y_predicted = polynominal_regression(X_train,y_train,X_test,y_test,polynominal_list)\n",
    "plot_score(clf, polynominal_list)\n"
   ]
  },
  {
   "cell_type": "markdown",
   "metadata": {},
   "source": [
    "$\\bf{Answer:}$ <br>\n",
    "For the  diabetes data, it can be seen that the highest score is generated by a linear regression model with only one order of polynominals. The parameters have been tried up to 4, since the number of features will increase rapidly for high values of n. However, the mean test scoe is still low and this would mean that a linear regression model would not be a suitable model for the diabetes data. "
   ]
  },
  {
   "cell_type": "markdown",
   "metadata": {},
   "source": [
    "### ROC curve analysis\n",
    "A common method to evaluate binary classifiers is the receiver operating characteristic (ROC) curve. Similar to the week one practicals, implement a $k$-NN classifier on the breast cancer dataset, however, his time use the $k$-NN pipeline from the preliminary. Train the model for different values of $k$ and evaluate their respective performance with an ROC curve, use the `sklearn.metrics.roc_curve` function."
   ]
  },
  {
   "cell_type": "code",
   "execution_count": 10,
   "metadata": {},
   "outputs": [
    {
     "data": {
      "image/png": "[encoded data removed]",
      "text/plain": [
       "<Figure size 432x288 with 1 Axes>"
      ]
     },
     "metadata": {
      "needs_background": "light"
     },
     "output_type": "display_data"
    }
   ],
   "source": [
    "from sklearn.metrics import roc_curve, auc\n",
    "\n",
    "# Load data\n",
    "breast_cancer = datasets.load_breast_cancer()\n",
    "X = breast_cancer.data\n",
    "y = breast_cancer.target\n",
    "\n",
    "# Split in training and testing data\n",
    "X_train, X_test, y_train, y_test = train_test_split(X, y, test_size=0.2)\n",
    "\n",
    "# Create KNN model, looping over list of k-values\n",
    "\n",
    "k_list = [1,3,5,10,20,35]\n",
    "\n",
    "    \n",
    "KNN_model_ROC_plots(X_train, y_train, X_test, y_test, k_list)\n"
   ]
  },
  {
   "cell_type": "markdown",
   "metadata": {},
   "source": [
    "$\\bf{Answer:}$ <br>\n",
    "In the ROC curve it can be seen that when k equals 1, the model performs less than for higher k-values. This can be seen since the area under the curve is less for k=1. When increasing the value of k, the area under the curve becomes higher and thus the model is performing better."
   ]
  },
  {
   "cell_type": "markdown",
   "metadata": {},
   "source": [
    "### $F_1$ score and Dice similarity coefficient\n",
    "\n",
    "The Dice similarity coefficient is a very popular evaluation measure for image segmentation applications. Assuming that $A$ is the ground truth segmentation of an object represented as a binary image, and $B$ is the binary output of an image segmentation method, the Dice similarity coefficient is computed as:\n",
    "\n",
    "$\\text{Dice}(A,B) = \\frac{2|A\\cap B|}{|A| + |B|}$\n",
    "\n",
    "where $|\\cdot|$ represents the cardinality of the objects (e.g. $|A|$ is the number of non-zero pixels in the ground truth segmentation).\n",
    "\n",
    "For example, the Dice similarity can be computed in the following way:"
   ]
  },
  {
   "cell_type": "code",
   "execution_count": 11,
   "metadata": {},
   "outputs": [
    {
     "name": "stdout",
     "output_type": "stream",
     "text": [
      "0.3402777777777778\n",
      "0.3402777777777778\n",
      "0.3402777777777778\n",
      "              precision    recall  f1-score   support\n",
      "\n",
      "           0       0.89      0.89      0.89       880\n",
      "           1       0.34      0.34      0.34       144\n",
      "\n",
      "    accuracy                           0.81      1024\n",
      "   macro avg       0.62      0.62      0.62      1024\n",
      "weighted avg       0.81      0.81      0.81      1024\n",
      "\n"
     ]
    },
    {
     "data": {
      "image/png": "[encoded data removed]",
      "text/plain": [
       "<Figure size 432x288 with 1 Axes>"
      ]
     },
     "metadata": {
      "needs_background": "light"
     },
     "output_type": "display_data"
    }
   ],
   "source": [
    "# generate some test objecys\n",
    "A = np.zeros((32, 32))\n",
    "A[10:-10, 10:-10] = 1\n",
    "B = np.zeros((32, 32))\n",
    "B[5:-15, 5:-15] = 1\n",
    "\n",
    "dice = 2*np.sum(A*B)/(np.sum(A)+np.sum(B))\n",
    "\n",
    "# display the results\n",
    "plt.plot()\n",
    "plt.imshow(A)\n",
    "plt.imshow(B,alpha=0.7)\n",
    "\n",
    "print(dice)\n",
    "\n",
    "#shown below are multiple ways that show that F1 score is equal to dice coefficient\n",
    "#1\n",
    "from sklearn.metrics import confusion_matrix\n",
    "tn,fp,fn,tp = (0,0,0,0)\n",
    "\n",
    "A_int = A.astype(int)\n",
    "B_int = B.astype(int)\n",
    "\n",
    "A_array = np.reshape(A_int, 32*32) #changes the 32 by 32 matrix into one long array with 32*32 elements\n",
    "B_array = np.reshape(B_int, 32*32)\n",
    "\n",
    "tn,fp,fn,tp = confusion_matrix(A_array,B_array).ravel()\n",
    "\n",
    "precision = tp/(tp+fp)\n",
    "recall = tp/(tp+fn)\n",
    "F1 = 2 * (precision * recall) / (precision + recall)\n",
    "print(F1)\n",
    "\n",
    "#2\n",
    "from sklearn.metrics import f1_score\n",
    "print(f1_score(A_array,B_array))\n",
    "\n",
    "#3\n",
    "from sklearn.metrics import classification_report\n",
    "print(classification_report(A_array, B_array))"
   ]
  },
  {
   "cell_type": "markdown",
   "metadata": {},
   "source": [
    "<p><font color='#770a0a'>Show that the $F_1$ score, which is the harmonic mean of precision and recall, is equivalent to the Dice similarity coefficient</font><p>"
   ]
  },
  {
   "cell_type": "markdown",
   "metadata": {},
   "source": [
    "$\\bf{Answer:}$ <br>\n",
    "We assume that both the Dice coefficient and the F1 Score are applied on boolean data, meaning they can be expressed in true positive(TP), true negative(TN), false positive(FP) and false negative(FN) <br><br>\n",
    "$\\text{Dice}(A,B) = \\frac{2|A\\cap B|}{|A| + |B|}$ = $\\frac{2|A\\cap B|}{|A\\cup B| + |A\\cap B|}$ = $\\frac{2*Intersection}{Union + Intersection}$\n",
    "\n",
    "Knowing that: <br>\n",
    "$\\text{Union} = TP + FN + FP$ <br>\n",
    "$\\text{Intersection} = TP$ <br>\n",
    "\n",
    "Filling in the formula, gives: <br>\n",
    "$\\text{Dice}(A,B) = \\frac{2*TP}{TP+TP+FN+FP}$ = $\\frac{2TP}{2TP+FN+FP}$ <br><br>\n",
    "\n",
    "The formula for the F1 score is given by: <br>\n",
    "$\\text{F1 Score} = 2*\\frac{precision*recall}{precision+recall} = \\frac{2}{\\frac{1}{precision}+\\frac{1}{recall}} $ <br>\n",
    "precision is defined as: <br>\n",
    "$\\text{Precision} = \\frac{TP}{(TP+FP)}$ <br>\n",
    "recall is defined as: <br>\n",
    "$\\text{Recall} = \\frac{TP}{(TP+FN)}$ <br>\n",
    "\n",
    "filling in into the formula gives:<br>\n",
    "$\\text{F1 Score} = \\frac{2}{\\frac{TP+FP}{TP}+\\frac{TP+FN}{TP}} = \\frac{2}{\\frac{2TP+FP+FN}{TP}} = \\frac{2TP}{2TP+FP+FN}$ <br>\n",
    "\n",
    "As we can see, the Dice formula and the F1 Score are equivalent\n"
   ]
  },
  {
   "cell_type": "code",
   "execution_count": null,
   "metadata": {},
   "outputs": [],
   "source": []
  }
 ],
 "metadata": {
  "kernelspec": {
   "display_name": "Python 3",
   "language": "python",
   "name": "python3"
  },
  "language_info": {
   "codemirror_mode": {
    "name": "ipython",
    "version": 3
   },
   "file_extension": ".py",
   "mimetype": "text/x-python",
   "name": "python",
   "nbconvert_exporter": "python",
   "pygments_lexer": "ipython3",
   "version": "3.7.7"
  }
 },
 "nbformat": 4,
 "nbformat_minor": 2
}
